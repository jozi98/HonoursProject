{
 "cells": [
  {
   "cell_type": "markdown",
   "metadata": {},
   "source": [
    "# Python Implementation of Experiments for Thesis"
   ]
  },
  {
   "cell_type": "markdown",
   "metadata": {},
   "source": [
    "### Import Libraries"
   ]
  },
  {
   "cell_type": "code",
   "execution_count": 1,
   "metadata": {},
   "outputs": [
    {
     "name": "stderr",
     "output_type": "stream",
     "text": [
      "/usr/local/lib/python3.6/dist-packages/tensorboard/compat/tensorflow_stub/dtypes.py:541: FutureWarning: Passing (type, 1) or '1type' as a synonym of type is deprecated; in a future version of numpy, it will be understood as (type, (1,)) / '(1,)type'.\n",
      "  _np_qint8 = np.dtype([(\"qint8\", np.int8, 1)])\n",
      "/usr/local/lib/python3.6/dist-packages/tensorboard/compat/tensorflow_stub/dtypes.py:542: FutureWarning: Passing (type, 1) or '1type' as a synonym of type is deprecated; in a future version of numpy, it will be understood as (type, (1,)) / '(1,)type'.\n",
      "  _np_quint8 = np.dtype([(\"quint8\", np.uint8, 1)])\n",
      "/usr/local/lib/python3.6/dist-packages/tensorboard/compat/tensorflow_stub/dtypes.py:543: FutureWarning: Passing (type, 1) or '1type' as a synonym of type is deprecated; in a future version of numpy, it will be understood as (type, (1,)) / '(1,)type'.\n",
      "  _np_qint16 = np.dtype([(\"qint16\", np.int16, 1)])\n",
      "/usr/local/lib/python3.6/dist-packages/tensorboard/compat/tensorflow_stub/dtypes.py:544: FutureWarning: Passing (type, 1) or '1type' as a synonym of type is deprecated; in a future version of numpy, it will be understood as (type, (1,)) / '(1,)type'.\n",
      "  _np_quint16 = np.dtype([(\"quint16\", np.uint16, 1)])\n",
      "/usr/local/lib/python3.6/dist-packages/tensorboard/compat/tensorflow_stub/dtypes.py:545: FutureWarning: Passing (type, 1) or '1type' as a synonym of type is deprecated; in a future version of numpy, it will be understood as (type, (1,)) / '(1,)type'.\n",
      "  _np_qint32 = np.dtype([(\"qint32\", np.int32, 1)])\n",
      "/usr/local/lib/python3.6/dist-packages/tensorboard/compat/tensorflow_stub/dtypes.py:550: FutureWarning: Passing (type, 1) or '1type' as a synonym of type is deprecated; in a future version of numpy, it will be understood as (type, (1,)) / '(1,)type'.\n",
      "  np_resource = np.dtype([(\"resource\", np.ubyte, 1)])\n",
      "WARNING: Logging before flag parsing goes to stderr.\n",
      "W0213 10:50:27.304858 140028321982272 module_wrapper.py:136] From /usr/local/lib/python3.6/dist-packages/tensorflow_core/python/util/module_wrapper.py:163: The name tf.set_random_seed is deprecated. Please use tf.compat.v1.set_random_seed instead.\n",
      "\n",
      "Using TensorFlow backend.\n"
     ]
    }
   ],
   "source": [
    "#-------------------------Setting the randomness-------#\n",
    "import numpy as np\n",
    "np.random.seed(1)\n",
    "\n",
    "from tensorflow import set_random_seed\n",
    "set_random_seed(1)\n",
    "#------------------------------------------------------#\n",
    "\n",
    "import keras\n",
    "from keras.models import Sequential\n",
    "from keras import optimizers\n",
    "from keras.layers.normalization import BatchNormalization\n",
    "from keras.layers import Conv2D, MaxPooling2D, ZeroPadding2D, GlobalAveragePooling2D\n",
    "from keras.layers.core import Dense, Dropout, Flatten, Activation,Reshape\n",
    "\n",
    "from sklearn.utils import shuffle\n",
    "\n"
   ]
  },
  {
   "cell_type": "markdown",
   "metadata": {},
   "source": [
    "## Load in training and testing dataset"
   ]
  },
  {
   "cell_type": "code",
   "execution_count": 2,
   "metadata": {},
   "outputs": [],
   "source": [
    "from numpy import load\n",
    "train_data = load('training_data.npy')\n",
    "test_data = load('testing_data.npy')"
   ]
  },
  {
   "cell_type": "code",
   "execution_count": 3,
   "metadata": {},
   "outputs": [
    {
     "name": "stdout",
     "output_type": "stream",
     "text": [
      "[1.         0.05098039 0.05490196 ... 0.05098039 0.04705882 0.04705882]\n",
      "[0.         0.09019608 0.07058824 ... 0.44705883 0.45882353 0.44313726]\n",
      "1341\n"
     ]
    }
   ],
   "source": [
    "print(train_data[3874])\n",
    "print(train_data[3875])\n",
    "print(len(train_data[3875:]))\n"
   ]
  },
  {
   "cell_type": "code",
   "execution_count": 4,
   "metadata": {},
   "outputs": [
    {
     "name": "stdout",
     "output_type": "stream",
     "text": [
      "[1.         0.03137255 0.04705882 ... 0.         0.         0.        ]\n",
      "[0.         0.12156863 0.12156863 ... 0.1254902  0.12941177 0.13333334]\n"
     ]
    }
   ],
   "source": [
    "print(test_data[389])\n",
    "print(test_data[390])"
   ]
  },
  {
   "cell_type": "markdown",
   "metadata": {},
   "source": [
    " ## Method to choose balancing of training data"
   ]
  },
  {
   "cell_type": "code",
   "execution_count": 5,
   "metadata": {},
   "outputs": [],
   "source": [
    "def balanced(option):\n",
    "    if(option==\"yes\"):\n",
    "        training_data = np.concatenate((train_data[0:1341],train_data[3875:]),axis=0)\n",
    "        testing_data = np.concatenate((test_data[0:234],test_data[390:]))\n",
    "        val\n",
    "        #training_data = train_data\n",
    "        return training_data,testing_data\n",
    "    else:\n",
    "        training_data = train_data\n",
    "        testing_data = np.concatenate((test_data[0:234],test_data[390:]))\n",
    "        return training_data,testing_data\n"
   ]
  },
  {
   "cell_type": "code",
   "execution_count": 6,
   "metadata": {},
   "outputs": [
    {
     "name": "stdout",
     "output_type": "stream",
     "text": [
      "(5216, 62501)\n",
      "(468, 62501)\n"
     ]
    }
   ],
   "source": [
    "training_data,test_data=balanced(\"no\")\n",
    "print(training_data.shape)\n",
    "print(test_data.shape)"
   ]
  },
  {
   "cell_type": "markdown",
   "metadata": {},
   "source": [
    "## We need to shuffle the data to allow the Model to learn in a varied manner\n"
   ]
  },
  {
   "cell_type": "code",
   "execution_count": 7,
   "metadata": {},
   "outputs": [],
   "source": [
    "## Shuffling the data to make it more varied with yes or no to shuffling\n",
    "def ShuffelData(data,option):\n",
    "    if(option==\"yes\"):\n",
    "        data = shuffle(data,random_state=0)\n",
    "        return data\n",
    "    else:\n",
    "        return data\n",
    "training_data = ShuffelData(training_data,\"no\")"
   ]
  },
  {
   "cell_type": "code",
   "execution_count": 8,
   "metadata": {},
   "outputs": [],
   "source": [
    "X_train = training_data[0:,1:]\n",
    "Y_train = training_data[0:,0:1]\n",
    "X_test = test_data[0:,1:]\n",
    "Y_test = test_data[0:,0:1]"
   ]
  },
  {
   "cell_type": "code",
   "execution_count": 9,
   "metadata": {},
   "outputs": [],
   "source": [
    "y_train_ohe = keras.utils.to_categorical(Y_train, 2)\n",
    "y_test_ohe = keras.utils.to_categorical(Y_test, 2)"
   ]
  },
  {
   "cell_type": "code",
   "execution_count": 10,
   "metadata": {},
   "outputs": [
    {
     "name": "stdout",
     "output_type": "stream",
     "text": [
      "(5216, 250, 250, 1)\n",
      "(468, 250, 250, 1)\n"
     ]
    }
   ],
   "source": [
    "X_train = X_train.reshape(X_train.shape[0],250,250,1)\n",
    "print(X_train.shape)\n",
    "X_test = X_test.reshape(X_test.shape[0],250,250,1)\n",
    "print(X_test.shape)"
   ]
  },
  {
   "cell_type": "markdown",
   "metadata": {},
   "source": [
    "## Create 2D CNN \n",
    "\n",
    "## 1. Define Sequential Model\n",
    "## 2. Add 2D CNN with 32 filters,3x3 filters\n",
    "## 3. Apply Relu\n",
    "## 4. Apply Batch Norm\n",
    "## Repeat x2\n",
    "## 5. Apply MaxPooling(2,2)\n",
    "## 6. Send through Fully Connected Layer\n"
   ]
  },
  {
   "cell_type": "code",
   "execution_count": 11,
   "metadata": {},
   "outputs": [],
   "source": [
    "def create_model():\n",
    "    model_CNN = Sequential()\n",
    "    model_CNN.add(Conv2D(32,(3,3),input_shape=(250,250,1)))\n",
    "    model_CNN.add(Activation('relu'))\n",
    "    model_CNN.add(BatchNormalization(axis=-1))\n",
    "    model_CNN.add(Conv2D(32, (3, 3)))\n",
    "    model_CNN.add(Activation('relu'))\n",
    "    model_CNN.add(BatchNormalization(axis=-1))\n",
    "\n",
    "    model_CNN.add(MaxPooling2D(pool_size=(2,2)))\n",
    "    \n",
    "    model_CNN.add(Flatten())\n",
    "\n",
    "    # Fully connected layer\n",
    "    model_CNN.add(Dense(128))\n",
    "    model_CNN.add(Activation('relu'))\n",
    "    model_CNN.add(BatchNormalization())\n",
    "    #model_CNN.add(Dropout(0.2))\n",
    "    model_CNN.add(Dense(2))\n",
    "    model_CNN.add(Activation('softmax'))\n",
    "    \n",
    "    return model_CNN"
   ]
  },
  {
   "cell_type": "markdown",
   "metadata": {},
   "source": [
    "# Setup for the experiment below\n",
    "\n",
    "## 1. Model is ran with the above architeture \n",
    "## 2.Trained on Imbalanced Set\n",
    "## 3. Tested on Balanced Set"
   ]
  },
  {
   "cell_type": "markdown",
   "metadata": {},
   "source": [
    "# This is a test to see if running 10 experiments for the same setup of model produces the same results "
   ]
  },
  {
   "cell_type": "code",
   "execution_count": 13,
   "metadata": {},
   "outputs": [
    {
     "name": "stderr",
     "output_type": "stream",
     "text": [
      "W0212 20:50:02.658175 140301951469376 deprecation.py:506] From /usr/local/lib/python3.6/dist-packages/tensorflow_core/python/ops/resource_variable_ops.py:1633: calling BaseResourceVariable.__init__ (from tensorflow.python.ops.resource_variable_ops) with constraint is deprecated and will be removed in a future version.\n",
      "Instructions for updating:\n",
      "If using Keras pass *_constraint arguments to layers.\n",
      "W0212 20:50:04.524966 140301951469376 module_wrapper.py:136] From /usr/local/lib/python3.6/dist-packages/tensorflow_core/python/util/module_wrapper.py:163: The name tf.nn.max_pool is deprecated. Please use tf.nn.max_pool2d instead.\n",
      "\n",
      "W0212 20:50:05.346380 140301951469376 deprecation.py:323] From /usr/local/lib/python3.6/dist-packages/keras/optimizers.py:550: BaseResourceVariable.constraint (from tensorflow.python.ops.resource_variable_ops) is deprecated and will be removed in a future version.\n",
      "Instructions for updating:\n",
      "Apply a constraint manually following the optimizer update step.\n"
     ]
    },
    {
     "name": "stdout",
     "output_type": "stream",
     "text": [
      "Train on 5216 samples, validate on 468 samples\n",
      "Epoch 1/25\n",
      "5216/5216 [==============================] - 15s 3ms/step - loss: 0.2130 - accuracy: 0.9227 - val_loss: 2.0270 - val_accuracy: 0.5107\n",
      "Epoch 2/25\n",
      "5216/5216 [==============================] - 12s 2ms/step - loss: 0.0877 - accuracy: 0.9651 - val_loss: 3.6038 - val_accuracy: 0.5000\n",
      "Epoch 3/25\n",
      "5216/5216 [==============================] - 12s 2ms/step - loss: 0.0581 - accuracy: 0.9814 - val_loss: 2.6041 - val_accuracy: 0.5000\n",
      "Epoch 4/25\n",
      "5216/5216 [==============================] - 12s 2ms/step - loss: 0.0554 - accuracy: 0.9808 - val_loss: 1.1945 - val_accuracy: 0.6325\n",
      "Epoch 5/25\n",
      "5216/5216 [==============================] - 12s 2ms/step - loss: 0.0393 - accuracy: 0.9850 - val_loss: 3.4786 - val_accuracy: 0.5085\n",
      "Epoch 6/25\n",
      "5216/5216 [==============================] - 12s 2ms/step - loss: 0.0254 - accuracy: 0.9893 - val_loss: 3.6075 - val_accuracy: 0.5491\n",
      "Epoch 7/25\n",
      "5216/5216 [==============================] - 12s 2ms/step - loss: 0.0142 - accuracy: 0.9939 - val_loss: 56.2398 - val_accuracy: 0.5000\n",
      "Epoch 8/25\n",
      "5216/5216 [==============================] - 12s 2ms/step - loss: 0.0083 - accuracy: 0.9975 - val_loss: 4.4214 - val_accuracy: 0.5342\n",
      "Epoch 9/25\n",
      "5216/5216 [==============================] - 12s 2ms/step - loss: 0.0176 - accuracy: 0.9946 - val_loss: 131.1638 - val_accuracy: 0.5000\n",
      "Epoch 10/25\n",
      "5216/5216 [==============================] - 12s 2ms/step - loss: 0.0081 - accuracy: 0.9971 - val_loss: 37.3980 - val_accuracy: 0.5000\n",
      "Epoch 11/25\n",
      "5216/5216 [==============================] - 12s 2ms/step - loss: 0.0043 - accuracy: 0.9985 - val_loss: 68.9489 - val_accuracy: 0.5000\n",
      "Epoch 12/25\n",
      "5216/5216 [==============================] - 12s 2ms/step - loss: 0.0052 - accuracy: 0.9979 - val_loss: 2.3776 - val_accuracy: 0.6261\n",
      "Epoch 13/25\n",
      "5216/5216 [==============================] - 12s 2ms/step - loss: 0.0112 - accuracy: 0.9969 - val_loss: 5.3526 - val_accuracy: 0.5406\n",
      "Epoch 14/25\n",
      "5216/5216 [==============================] - 12s 2ms/step - loss: 0.0084 - accuracy: 0.9971 - val_loss: 21.6872 - val_accuracy: 0.5748\n",
      "Epoch 15/25\n",
      "5216/5216 [==============================] - 12s 2ms/step - loss: 0.0106 - accuracy: 0.9965 - val_loss: 7.7175 - val_accuracy: 0.5000\n",
      "Epoch 16/25\n",
      "5216/5216 [==============================] - 12s 2ms/step - loss: 0.0049 - accuracy: 0.9985 - val_loss: 2.0248 - val_accuracy: 0.7821\n",
      "Epoch 17/25\n",
      "5216/5216 [==============================] - 12s 2ms/step - loss: 0.0035 - accuracy: 0.9990 - val_loss: 1.5390 - val_accuracy: 0.6731\n",
      "Epoch 18/25\n",
      "5216/5216 [==============================] - 12s 2ms/step - loss: 0.0070 - accuracy: 0.9981 - val_loss: 3.1274 - val_accuracy: 0.7543\n",
      "Epoch 19/25\n",
      "5216/5216 [==============================] - 12s 2ms/step - loss: 0.0092 - accuracy: 0.9973 - val_loss: 3.8869 - val_accuracy: 0.8034\n",
      "Epoch 20/25\n",
      "5216/5216 [==============================] - 12s 2ms/step - loss: 0.0026 - accuracy: 0.9994 - val_loss: 16.8827 - val_accuracy: 0.7051\n",
      "Epoch 21/25\n",
      "5216/5216 [==============================] - 12s 2ms/step - loss: 0.0023 - accuracy: 0.9992 - val_loss: 372.6324 - val_accuracy: 0.5000\n",
      "Epoch 22/25\n",
      "5216/5216 [==============================] - 12s 2ms/step - loss: 0.0089 - accuracy: 0.9969 - val_loss: 1.4511 - val_accuracy: 0.8056\n",
      "Epoch 23/25\n",
      "5216/5216 [==============================] - 12s 2ms/step - loss: 0.0096 - accuracy: 0.9960 - val_loss: 2.3768 - val_accuracy: 0.7415\n",
      "Epoch 24/25\n",
      "5216/5216 [==============================] - 12s 2ms/step - loss: 0.0102 - accuracy: 0.9964 - val_loss: 1.1514 - val_accuracy: 0.8034\n",
      "Epoch 25/25\n",
      "5216/5216 [==============================] - 12s 2ms/step - loss: 0.0034 - accuracy: 0.9987 - val_loss: 5.0310 - val_accuracy: 0.5491\n",
      "468/468 [==============================] - 0s 902us/step\n",
      "Train on 5216 samples, validate on 468 samples\n",
      "Epoch 1/25\n",
      "5216/5216 [==============================] - 12s 2ms/step - loss: 0.2015 - accuracy: 0.9291 - val_loss: 0.5638 - val_accuracy: 0.7393\n",
      "Epoch 2/25\n",
      "5216/5216 [==============================] - 12s 2ms/step - loss: 0.0933 - accuracy: 0.9653 - val_loss: 0.9143 - val_accuracy: 0.6197\n",
      "Epoch 3/25\n",
      "5216/5216 [==============================] - 12s 2ms/step - loss: 0.0745 - accuracy: 0.9734 - val_loss: 6.9097 - val_accuracy: 0.5000\n",
      "Epoch 4/25\n",
      "5216/5216 [==============================] - 12s 2ms/step - loss: 0.0515 - accuracy: 0.9810 - val_loss: 8.2769 - val_accuracy: 0.5000\n",
      "Epoch 5/25\n",
      "5216/5216 [==============================] - 11s 2ms/step - loss: 0.0298 - accuracy: 0.9879 - val_loss: 14.0426 - val_accuracy: 0.5000\n",
      "Epoch 6/25\n",
      "5216/5216 [==============================] - 12s 2ms/step - loss: 0.0357 - accuracy: 0.9873 - val_loss: 4.3562 - val_accuracy: 0.5150\n",
      "Epoch 7/25\n",
      "5216/5216 [==============================] - 12s 2ms/step - loss: 0.0409 - accuracy: 0.9852 - val_loss: 2.6417 - val_accuracy: 0.6068\n",
      "Epoch 8/25\n",
      "5216/5216 [==============================] - 12s 2ms/step - loss: 0.0164 - accuracy: 0.9944 - val_loss: 0.6809 - val_accuracy: 0.7991\n",
      "Epoch 9/25\n",
      "5216/5216 [==============================] - 12s 2ms/step - loss: 0.0088 - accuracy: 0.9975 - val_loss: 4.2704 - val_accuracy: 0.5556\n",
      "Epoch 10/25\n",
      "5216/5216 [==============================] - 11s 2ms/step - loss: 0.0131 - accuracy: 0.9956 - val_loss: 44.6223 - val_accuracy: 0.5000\n",
      "Epoch 11/25\n",
      "5216/5216 [==============================] - 12s 2ms/step - loss: 0.0330 - accuracy: 0.9877 - val_loss: 9.9440 - val_accuracy: 0.5043\n",
      "Epoch 12/25\n",
      "5216/5216 [==============================] - 12s 2ms/step - loss: 0.0081 - accuracy: 0.9977 - val_loss: 3.2564 - val_accuracy: 0.6197\n",
      "Epoch 13/25\n",
      "5216/5216 [==============================] - 11s 2ms/step - loss: 0.0065 - accuracy: 0.9971 - val_loss: 3.1887 - val_accuracy: 0.6261\n",
      "Epoch 14/25\n",
      "5216/5216 [==============================] - 11s 2ms/step - loss: 0.0065 - accuracy: 0.9979 - val_loss: 1.6191 - val_accuracy: 0.7521\n",
      "Epoch 15/25\n",
      "5216/5216 [==============================] - 11s 2ms/step - loss: 0.0011 - accuracy: 1.0000 - val_loss: 1.5090 - val_accuracy: 0.7778\n",
      "Epoch 16/25\n",
      "5216/5216 [==============================] - 12s 2ms/step - loss: 0.0037 - accuracy: 0.9987 - val_loss: 4.5299 - val_accuracy: 0.6154\n",
      "Epoch 17/25\n",
      "5216/5216 [==============================] - 12s 2ms/step - loss: 5.9682e-04 - accuracy: 1.0000 - val_loss: 4.7494 - val_accuracy: 0.6047\n",
      "Epoch 18/25\n",
      "5216/5216 [==============================] - 11s 2ms/step - loss: 1.8697e-04 - accuracy: 1.0000 - val_loss: 4.2652 - val_accuracy: 0.6239\n",
      "Epoch 19/25\n",
      "5216/5216 [==============================] - 11s 2ms/step - loss: 2.0027e-04 - accuracy: 1.0000 - val_loss: 3.7749 - val_accuracy: 0.6474\n",
      "Epoch 20/25\n",
      "5216/5216 [==============================] - 11s 2ms/step - loss: 5.2902e-04 - accuracy: 0.9998 - val_loss: 3.8329 - val_accuracy: 0.6496\n",
      "Epoch 21/25\n",
      "5216/5216 [==============================] - 11s 2ms/step - loss: 2.8471e-04 - accuracy: 1.0000 - val_loss: 3.4283 - val_accuracy: 0.6731\n",
      "Epoch 22/25\n",
      "5216/5216 [==============================] - 12s 2ms/step - loss: 2.8800e-04 - accuracy: 1.0000 - val_loss: 4.1244 - val_accuracy: 0.6389\n",
      "Epoch 23/25\n",
      "5216/5216 [==============================] - 12s 2ms/step - loss: 2.5962e-04 - accuracy: 1.0000 - val_loss: 3.2690 - val_accuracy: 0.6880\n",
      "Epoch 24/25\n",
      "5216/5216 [==============================] - 11s 2ms/step - loss: 1.0870e-04 - accuracy: 1.0000 - val_loss: 3.3787 - val_accuracy: 0.6795\n",
      "Epoch 25/25\n",
      "5216/5216 [==============================] - 11s 2ms/step - loss: 1.1980e-04 - accuracy: 1.0000 - val_loss: 3.8996 - val_accuracy: 0.6731\n",
      "468/468 [==============================] - 0s 914us/step\n",
      "Train on 5216 samples, validate on 468 samples\n",
      "Epoch 1/25\n",
      "5216/5216 [==============================] - 12s 2ms/step - loss: 0.4135 - accuracy: 0.8673 - val_loss: 2.4656 - val_accuracy: 0.5000\n",
      "Epoch 2/25\n",
      "5216/5216 [==============================] - 12s 2ms/step - loss: 0.0976 - accuracy: 0.9641 - val_loss: 4.1502 - val_accuracy: 0.5000\n",
      "Epoch 3/25\n",
      "5216/5216 [==============================] - 12s 2ms/step - loss: 0.0659 - accuracy: 0.9783 - val_loss: 3.1188 - val_accuracy: 0.5000\n",
      "Epoch 4/25\n",
      "5216/5216 [==============================] - 12s 2ms/step - loss: 0.0427 - accuracy: 0.9841 - val_loss: 6.9557 - val_accuracy: 0.5000\n",
      "Epoch 5/25\n",
      "5216/5216 [==============================] - 12s 2ms/step - loss: 0.0386 - accuracy: 0.9856 - val_loss: 1.1113 - val_accuracy: 0.6218\n",
      "Epoch 6/25\n",
      "5216/5216 [==============================] - 12s 2ms/step - loss: 0.0144 - accuracy: 0.9964 - val_loss: 0.4712 - val_accuracy: 0.7885\n",
      "Epoch 7/25\n",
      "5216/5216 [==============================] - 12s 2ms/step - loss: 0.0167 - accuracy: 0.9950 - val_loss: 1.3743 - val_accuracy: 0.7308\n",
      "Epoch 8/25\n",
      "5216/5216 [==============================] - 11s 2ms/step - loss: 0.0122 - accuracy: 0.9962 - val_loss: 1.1538 - val_accuracy: 0.7628\n",
      "Epoch 9/25\n",
      "5216/5216 [==============================] - 11s 2ms/step - loss: 0.0118 - accuracy: 0.9964 - val_loss: 5.4523 - val_accuracy: 0.5470\n",
      "Epoch 10/25\n",
      "5216/5216 [==============================] - 12s 2ms/step - loss: 0.0107 - accuracy: 0.9962 - val_loss: 2.7079 - val_accuracy: 0.6239\n",
      "Epoch 11/25\n",
      "5216/5216 [==============================] - 12s 2ms/step - loss: 0.0051 - accuracy: 0.9983 - val_loss: 2.5217 - val_accuracy: 0.5855\n",
      "Epoch 12/25\n",
      "5216/5216 [==============================] - 12s 2ms/step - loss: 0.0019 - accuracy: 0.9990 - val_loss: 2.1370 - val_accuracy: 0.6731\n",
      "Epoch 13/25\n",
      "5216/5216 [==============================] - 12s 2ms/step - loss: 0.0024 - accuracy: 0.9996 - val_loss: 1.6855 - val_accuracy: 0.6987\n",
      "Epoch 14/25\n",
      "5216/5216 [==============================] - 12s 2ms/step - loss: 6.2658e-04 - accuracy: 1.0000 - val_loss: 1.9561 - val_accuracy: 0.7457\n",
      "Epoch 15/25\n",
      "5216/5216 [==============================] - 11s 2ms/step - loss: 7.5161e-04 - accuracy: 0.9998 - val_loss: 2.7889 - val_accuracy: 0.6709\n",
      "Epoch 16/25\n",
      "5216/5216 [==============================] - 12s 2ms/step - loss: 4.7058e-04 - accuracy: 1.0000 - val_loss: 4.0695 - val_accuracy: 0.6068\n",
      "Epoch 17/25\n",
      "5216/5216 [==============================] - 12s 2ms/step - loss: 3.0275e-04 - accuracy: 1.0000 - val_loss: 3.2503 - val_accuracy: 0.6816\n",
      "Epoch 18/25\n",
      "5216/5216 [==============================] - 11s 2ms/step - loss: 0.0052 - accuracy: 0.9985 - val_loss: 4.4504 - val_accuracy: 0.6880\n",
      "Epoch 19/25\n",
      "5216/5216 [==============================] - 12s 2ms/step - loss: 0.0147 - accuracy: 0.9935 - val_loss: 1.6451 - val_accuracy: 0.7692\n",
      "Epoch 20/25\n",
      "5216/5216 [==============================] - 12s 2ms/step - loss: 0.0262 - accuracy: 0.9918 - val_loss: 1.5206 - val_accuracy: 0.6944\n",
      "Epoch 21/25\n",
      "5216/5216 [==============================] - 11s 2ms/step - loss: 0.0283 - accuracy: 0.9881 - val_loss: 0.5958 - val_accuracy: 0.8718\n",
      "Epoch 22/25\n",
      "5216/5216 [==============================] - 12s 2ms/step - loss: 0.0169 - accuracy: 0.9952 - val_loss: 1.9693 - val_accuracy: 0.7308\n",
      "Epoch 23/25\n",
      "5216/5216 [==============================] - 12s 2ms/step - loss: 0.0075 - accuracy: 0.9973 - val_loss: 2.2866 - val_accuracy: 0.7094\n",
      "Epoch 24/25\n",
      "5216/5216 [==============================] - 11s 2ms/step - loss: 0.0017 - accuracy: 0.9996 - val_loss: 1.8287 - val_accuracy: 0.7607\n",
      "Epoch 25/25\n",
      "5216/5216 [==============================] - 11s 2ms/step - loss: 8.7189e-04 - accuracy: 0.9998 - val_loss: 2.9639 - val_accuracy: 0.6603\n",
      "468/468 [==============================] - 0s 996us/step\n",
      "Train on 5216 samples, validate on 468 samples\n",
      "Epoch 1/25\n",
      "5216/5216 [==============================] - 12s 2ms/step - loss: 0.2318 - accuracy: 0.9245 - val_loss: 3.8915 - val_accuracy: 0.5235\n",
      "Epoch 2/25\n",
      "5216/5216 [==============================] - 12s 2ms/step - loss: 0.0786 - accuracy: 0.9697 - val_loss: 11.7480 - val_accuracy: 0.5000\n",
      "Epoch 3/25\n",
      "5216/5216 [==============================] - 12s 2ms/step - loss: 0.0631 - accuracy: 0.9799 - val_loss: 10.2869 - val_accuracy: 0.5000\n",
      "Epoch 4/25\n",
      "5216/5216 [==============================] - 12s 2ms/step - loss: 0.0441 - accuracy: 0.9837 - val_loss: 9.3669 - val_accuracy: 0.5278\n",
      "Epoch 5/25\n",
      "5216/5216 [==============================] - 12s 2ms/step - loss: 0.0424 - accuracy: 0.9827 - val_loss: 111.1285 - val_accuracy: 0.5000\n",
      "Epoch 6/25\n",
      "5216/5216 [==============================] - 12s 2ms/step - loss: 0.0252 - accuracy: 0.9914 - val_loss: 1.6352 - val_accuracy: 0.7821\n",
      "Epoch 7/25\n",
      "5216/5216 [==============================] - 12s 2ms/step - loss: 0.0248 - accuracy: 0.9919 - val_loss: 2.3774 - val_accuracy: 0.7073\n",
      "Epoch 8/25\n",
      "5216/5216 [==============================] - 12s 2ms/step - loss: 0.0137 - accuracy: 0.9960 - val_loss: 3.9156 - val_accuracy: 0.5534\n",
      "Epoch 9/25\n",
      "5216/5216 [==============================] - 12s 2ms/step - loss: 0.0087 - accuracy: 0.9973 - val_loss: 15.8128 - val_accuracy: 0.5171\n",
      "Epoch 10/25\n",
      "5216/5216 [==============================] - 12s 2ms/step - loss: 0.0033 - accuracy: 0.9994 - val_loss: 4.6203 - val_accuracy: 0.5449\n",
      "Epoch 11/25\n",
      "5216/5216 [==============================] - 12s 2ms/step - loss: 0.0021 - accuracy: 0.9990 - val_loss: 2.1365 - val_accuracy: 0.6902\n",
      "Epoch 12/25\n",
      "5216/5216 [==============================] - 12s 2ms/step - loss: 0.0012 - accuracy: 0.9998 - val_loss: 3.0606 - val_accuracy: 0.6603\n",
      "Epoch 13/25\n",
      "5216/5216 [==============================] - 12s 2ms/step - loss: 0.0020 - accuracy: 0.9990 - val_loss: 4.8293 - val_accuracy: 0.5876\n",
      "Epoch 14/25\n",
      "5216/5216 [==============================] - 12s 2ms/step - loss: 0.0038 - accuracy: 0.9988 - val_loss: 2.8232 - val_accuracy: 0.6218\n",
      "Epoch 15/25\n",
      "5216/5216 [==============================] - 11s 2ms/step - loss: 0.0024 - accuracy: 0.9994 - val_loss: 1.7426 - val_accuracy: 0.7244\n",
      "Epoch 16/25\n",
      "5216/5216 [==============================] - 11s 2ms/step - loss: 0.0186 - accuracy: 0.9942 - val_loss: 68.8406 - val_accuracy: 0.5021\n",
      "Epoch 17/25\n",
      "5216/5216 [==============================] - 12s 2ms/step - loss: 0.0186 - accuracy: 0.9941 - val_loss: 3.9964 - val_accuracy: 0.6496\n",
      "Epoch 18/25\n",
      "5216/5216 [==============================] - 12s 2ms/step - loss: 0.0079 - accuracy: 0.9969 - val_loss: 1.7665 - val_accuracy: 0.7265\n",
      "Epoch 19/25\n",
      "5216/5216 [==============================] - 12s 2ms/step - loss: 0.0101 - accuracy: 0.9962 - val_loss: 276.7074 - val_accuracy: 0.5000\n",
      "Epoch 20/25\n",
      "5216/5216 [==============================] - 12s 2ms/step - loss: 0.0028 - accuracy: 0.9988 - val_loss: 17.0165 - val_accuracy: 0.5855\n",
      "Epoch 21/25\n",
      "5216/5216 [==============================] - 12s 2ms/step - loss: 0.0025 - accuracy: 0.9994 - val_loss: 4.8201 - val_accuracy: 0.7457\n",
      "Epoch 22/25\n",
      "5216/5216 [==============================] - 12s 2ms/step - loss: 0.0027 - accuracy: 0.9994 - val_loss: 3.8932 - val_accuracy: 0.6154\n",
      "Epoch 23/25\n",
      "5216/5216 [==============================] - 12s 2ms/step - loss: 7.9232e-04 - accuracy: 0.9996 - val_loss: 5.7120 - val_accuracy: 0.5919\n",
      "Epoch 24/25\n",
      "5216/5216 [==============================] - 12s 2ms/step - loss: 3.6918e-04 - accuracy: 1.0000 - val_loss: 4.8469 - val_accuracy: 0.6111\n",
      "Epoch 25/25\n",
      "5216/5216 [==============================] - 12s 2ms/step - loss: 2.4597e-04 - accuracy: 1.0000 - val_loss: 3.5191 - val_accuracy: 0.6560\n",
      "468/468 [==============================] - 0s 886us/step\n",
      "Train on 5216 samples, validate on 468 samples\n",
      "Epoch 1/25\n",
      "5216/5216 [==============================] - 12s 2ms/step - loss: 0.3202 - accuracy: 0.8988 - val_loss: 0.7613 - val_accuracy: 0.6303\n",
      "Epoch 2/25\n",
      "5216/5216 [==============================] - 11s 2ms/step - loss: 0.1065 - accuracy: 0.9594 - val_loss: 0.9123 - val_accuracy: 0.5983\n",
      "Epoch 3/25\n",
      "5216/5216 [==============================] - 12s 2ms/step - loss: 0.0935 - accuracy: 0.9647 - val_loss: 0.6284 - val_accuracy: 0.7927\n",
      "Epoch 4/25\n",
      "5216/5216 [==============================] - 12s 2ms/step - loss: 0.0741 - accuracy: 0.9734 - val_loss: 0.9508 - val_accuracy: 0.7479\n",
      "Epoch 5/25\n",
      "5216/5216 [==============================] - 11s 2ms/step - loss: 0.0732 - accuracy: 0.9745 - val_loss: 1.0182 - val_accuracy: 0.7073\n",
      "Epoch 6/25\n",
      "5216/5216 [==============================] - 11s 2ms/step - loss: 0.0502 - accuracy: 0.9814 - val_loss: 3.5448 - val_accuracy: 0.5235\n",
      "Epoch 7/25\n",
      "5216/5216 [==============================] - 12s 2ms/step - loss: 0.0449 - accuracy: 0.9826 - val_loss: 2.5268 - val_accuracy: 0.5748\n",
      "Epoch 8/25\n",
      "5216/5216 [==============================] - 12s 2ms/step - loss: 0.0410 - accuracy: 0.9858 - val_loss: 1.5684 - val_accuracy: 0.6667\n",
      "Epoch 9/25\n"
     ]
    },
    {
     "name": "stdout",
     "output_type": "stream",
     "text": [
      "5216/5216 [==============================] - 12s 2ms/step - loss: 0.0241 - accuracy: 0.9908 - val_loss: 3.5660 - val_accuracy: 0.5833\n",
      "Epoch 10/25\n",
      "5216/5216 [==============================] - 11s 2ms/step - loss: 0.0213 - accuracy: 0.9931 - val_loss: 1.3808 - val_accuracy: 0.7457\n",
      "Epoch 11/25\n",
      "5216/5216 [==============================] - 11s 2ms/step - loss: 0.0120 - accuracy: 0.9962 - val_loss: 60.3480 - val_accuracy: 0.5000\n",
      "Epoch 12/25\n",
      "5216/5216 [==============================] - 11s 2ms/step - loss: 0.0108 - accuracy: 0.9962 - val_loss: 8.9525 - val_accuracy: 0.5214\n",
      "Epoch 13/25\n",
      "5216/5216 [==============================] - 12s 2ms/step - loss: 0.0163 - accuracy: 0.9941 - val_loss: 15.3916 - val_accuracy: 0.6432\n",
      "Epoch 14/25\n",
      "5216/5216 [==============================] - 12s 2ms/step - loss: 0.0275 - accuracy: 0.9889 - val_loss: 15.1896 - val_accuracy: 0.5000\n",
      "Epoch 15/25\n",
      "5216/5216 [==============================] - 11s 2ms/step - loss: 0.0238 - accuracy: 0.9898 - val_loss: 2.6500 - val_accuracy: 0.6496\n",
      "Epoch 16/25\n",
      "5216/5216 [==============================] - 11s 2ms/step - loss: 0.0162 - accuracy: 0.9952 - val_loss: 1.2121 - val_accuracy: 0.7778\n",
      "Epoch 17/25\n",
      "5216/5216 [==============================] - 11s 2ms/step - loss: 0.0143 - accuracy: 0.9942 - val_loss: 2.9818 - val_accuracy: 0.6368\n",
      "Epoch 18/25\n",
      "5216/5216 [==============================] - 11s 2ms/step - loss: 0.0059 - accuracy: 0.9981 - val_loss: 4.7041 - val_accuracy: 0.5534\n",
      "Epoch 19/25\n",
      "5216/5216 [==============================] - 12s 2ms/step - loss: 0.0017 - accuracy: 0.9998 - val_loss: 3.3082 - val_accuracy: 0.6346\n",
      "Epoch 20/25\n",
      "5216/5216 [==============================] - 12s 2ms/step - loss: 0.0019 - accuracy: 0.9992 - val_loss: 3.2479 - val_accuracy: 0.6410\n",
      "Epoch 21/25\n",
      "5216/5216 [==============================] - 11s 2ms/step - loss: 0.0023 - accuracy: 0.9992 - val_loss: 2.1480 - val_accuracy: 0.7329\n",
      "Epoch 22/25\n",
      "5216/5216 [==============================] - 12s 2ms/step - loss: 0.0011 - accuracy: 0.9998 - val_loss: 2.7451 - val_accuracy: 0.6987\n",
      "Epoch 23/25\n",
      "5216/5216 [==============================] - 12s 2ms/step - loss: 6.1301e-04 - accuracy: 1.0000 - val_loss: 2.6074 - val_accuracy: 0.7094\n",
      "Epoch 24/25\n",
      "5216/5216 [==============================] - 11s 2ms/step - loss: 9.5778e-04 - accuracy: 0.9994 - val_loss: 2.5553 - val_accuracy: 0.7222\n",
      "Epoch 25/25\n",
      "5216/5216 [==============================] - 11s 2ms/step - loss: 0.0126 - accuracy: 0.9950 - val_loss: 6.6257 - val_accuracy: 0.5470\n",
      "468/468 [==============================] - 0s 885us/step\n",
      "Train on 5216 samples, validate on 468 samples\n",
      "Epoch 1/25\n",
      "5216/5216 [==============================] - 12s 2ms/step - loss: 0.2046 - accuracy: 0.9327 - val_loss: 0.5082 - val_accuracy: 0.7244\n",
      "Epoch 2/25\n",
      "5216/5216 [==============================] - 12s 2ms/step - loss: 0.0921 - accuracy: 0.9657 - val_loss: 4.0839 - val_accuracy: 0.5000\n",
      "Epoch 3/25\n",
      "5216/5216 [==============================] - 12s 2ms/step - loss: 0.0813 - accuracy: 0.9716 - val_loss: 1.5055 - val_accuracy: 0.5534\n",
      "Epoch 4/25\n",
      "5216/5216 [==============================] - 12s 2ms/step - loss: 0.0567 - accuracy: 0.9801 - val_loss: 7.5654 - val_accuracy: 0.5000\n",
      "Epoch 5/25\n",
      "5216/5216 [==============================] - 12s 2ms/step - loss: 0.0384 - accuracy: 0.9854 - val_loss: 4.2377 - val_accuracy: 0.5214\n",
      "Epoch 6/25\n",
      "5216/5216 [==============================] - 12s 2ms/step - loss: 0.0496 - accuracy: 0.9829 - val_loss: 0.5743 - val_accuracy: 0.7799\n",
      "Epoch 7/25\n",
      "5216/5216 [==============================] - 12s 2ms/step - loss: 0.0465 - accuracy: 0.9831 - val_loss: 5.8297 - val_accuracy: 0.5363\n",
      "Epoch 8/25\n",
      "5216/5216 [==============================] - 12s 2ms/step - loss: 0.0295 - accuracy: 0.9885 - val_loss: 7.1892 - val_accuracy: 0.5064\n",
      "Epoch 9/25\n",
      "5216/5216 [==============================] - 12s 2ms/step - loss: 0.0179 - accuracy: 0.9944 - val_loss: 8.7285 - val_accuracy: 0.5021\n",
      "Epoch 10/25\n",
      "5216/5216 [==============================] - 12s 2ms/step - loss: 0.0094 - accuracy: 0.9971 - val_loss: 4.2581 - val_accuracy: 0.6816\n",
      "Epoch 11/25\n",
      "5216/5216 [==============================] - 12s 2ms/step - loss: 0.0104 - accuracy: 0.9964 - val_loss: 1.5693 - val_accuracy: 0.5171\n",
      "Epoch 12/25\n",
      "5216/5216 [==============================] - 12s 2ms/step - loss: 0.0146 - accuracy: 0.9950 - val_loss: 1.0050 - val_accuracy: 0.7821\n",
      "Epoch 13/25\n",
      "5216/5216 [==============================] - 12s 2ms/step - loss: 0.0043 - accuracy: 0.9988 - val_loss: 3.3050 - val_accuracy: 0.5791\n",
      "Epoch 14/25\n",
      "5216/5216 [==============================] - 12s 2ms/step - loss: 0.0014 - accuracy: 0.9996 - val_loss: 5.6420 - val_accuracy: 0.5235\n",
      "Epoch 15/25\n",
      "5216/5216 [==============================] - 12s 2ms/step - loss: 8.9027e-04 - accuracy: 0.9998 - val_loss: 4.1024 - val_accuracy: 0.6026\n",
      "Epoch 16/25\n",
      "5216/5216 [==============================] - 12s 2ms/step - loss: 3.4370e-04 - accuracy: 1.0000 - val_loss: 3.2458 - val_accuracy: 0.6432\n",
      "Epoch 17/25\n",
      "5216/5216 [==============================] - 12s 2ms/step - loss: 5.6394e-04 - accuracy: 1.0000 - val_loss: 2.7683 - val_accuracy: 0.6795\n",
      "Epoch 18/25\n",
      "5216/5216 [==============================] - 12s 2ms/step - loss: 0.0020 - accuracy: 0.9994 - val_loss: 2.4107 - val_accuracy: 0.6923\n",
      "Epoch 19/25\n",
      "5216/5216 [==============================] - 12s 2ms/step - loss: 0.0052 - accuracy: 0.9983 - val_loss: 4.4815 - val_accuracy: 0.5192\n",
      "Epoch 20/25\n",
      "5216/5216 [==============================] - 12s 2ms/step - loss: 0.0179 - accuracy: 0.9956 - val_loss: 30.0038 - val_accuracy: 0.5000\n",
      "Epoch 21/25\n",
      "5216/5216 [==============================] - 12s 2ms/step - loss: 0.0144 - accuracy: 0.9954 - val_loss: 1.0349 - val_accuracy: 0.8120\n",
      "Epoch 22/25\n",
      "5216/5216 [==============================] - 12s 2ms/step - loss: 0.0037 - accuracy: 0.9987 - val_loss: 9.3727 - val_accuracy: 0.5064\n",
      "Epoch 23/25\n",
      "5216/5216 [==============================] - 12s 2ms/step - loss: 7.0843e-04 - accuracy: 1.0000 - val_loss: 6.7312 - val_accuracy: 0.5427\n",
      "Epoch 24/25\n",
      "5216/5216 [==============================] - 12s 2ms/step - loss: 0.0023 - accuracy: 0.9990 - val_loss: 5.9444 - val_accuracy: 0.5705\n",
      "Epoch 25/25\n",
      "5216/5216 [==============================] - 12s 2ms/step - loss: 0.0064 - accuracy: 0.9981 - val_loss: 2.8794 - val_accuracy: 0.6752\n",
      "468/468 [==============================] - 0s 911us/step\n",
      "Train on 5216 samples, validate on 468 samples\n",
      "Epoch 1/25\n",
      "5216/5216 [==============================] - 13s 2ms/step - loss: 0.2751 - accuracy: 0.9185 - val_loss: 1.0089 - val_accuracy: 0.5363\n",
      "Epoch 2/25\n",
      "5216/5216 [==============================] - 12s 2ms/step - loss: 0.0902 - accuracy: 0.9663 - val_loss: 4.9350 - val_accuracy: 0.5000\n",
      "Epoch 3/25\n",
      "5216/5216 [==============================] - 12s 2ms/step - loss: 0.0613 - accuracy: 0.9774 - val_loss: 4.6415 - val_accuracy: 0.5000\n",
      "Epoch 4/25\n",
      "5216/5216 [==============================] - 11s 2ms/step - loss: 0.0433 - accuracy: 0.9824 - val_loss: 9.0834 - val_accuracy: 0.5000\n",
      "Epoch 5/25\n",
      "5216/5216 [==============================] - 11s 2ms/step - loss: 0.0243 - accuracy: 0.9895 - val_loss: 4.8133 - val_accuracy: 0.5000\n",
      "Epoch 6/25\n",
      "5216/5216 [==============================] - 11s 2ms/step - loss: 0.0128 - accuracy: 0.9958 - val_loss: 2.7737 - val_accuracy: 0.5342\n",
      "Epoch 7/25\n",
      "5216/5216 [==============================] - 11s 2ms/step - loss: 0.0062 - accuracy: 0.9988 - val_loss: 0.9753 - val_accuracy: 0.7543\n",
      "Epoch 8/25\n",
      "5216/5216 [==============================] - 12s 2ms/step - loss: 0.0058 - accuracy: 0.9987 - val_loss: 4.3491 - val_accuracy: 0.5427\n",
      "Epoch 9/25\n",
      "5216/5216 [==============================] - 12s 2ms/step - loss: 0.0044 - accuracy: 0.9990 - val_loss: 0.7619 - val_accuracy: 0.8205\n",
      "Epoch 10/25\n",
      "5216/5216 [==============================] - 11s 2ms/step - loss: 0.0020 - accuracy: 0.9998 - val_loss: 5.0142 - val_accuracy: 0.5363\n",
      "Epoch 11/25\n",
      "5216/5216 [==============================] - 11s 2ms/step - loss: 0.0014 - accuracy: 0.9996 - val_loss: 2.0018 - val_accuracy: 0.7115\n",
      "Epoch 12/25\n",
      "5216/5216 [==============================] - 11s 2ms/step - loss: 0.0074 - accuracy: 0.9977 - val_loss: 21.3090 - val_accuracy: 0.5043\n",
      "Epoch 13/25\n",
      "5216/5216 [==============================] - 12s 2ms/step - loss: 0.0234 - accuracy: 0.9921 - val_loss: 3.6862 - val_accuracy: 0.5833\n"
     ]
    },
    {
     "name": "stdout",
     "output_type": "stream",
     "text": [
      "Epoch 14/25\n",
      "5216/5216 [==============================] - 12s 2ms/step - loss: 0.0092 - accuracy: 0.9975 - val_loss: 10.8315 - val_accuracy: 0.5043\n",
      "Epoch 15/25\n",
      "5216/5216 [==============================] - 12s 2ms/step - loss: 0.0040 - accuracy: 0.9988 - val_loss: 2.2765 - val_accuracy: 0.7201\n",
      "Epoch 16/25\n",
      "5216/5216 [==============================] - 11s 2ms/step - loss: 0.0019 - accuracy: 0.9996 - val_loss: 3.2366 - val_accuracy: 0.6752\n",
      "Epoch 17/25\n",
      "5216/5216 [==============================] - 11s 2ms/step - loss: 0.0019 - accuracy: 0.9996 - val_loss: 4.1800 - val_accuracy: 0.5983\n",
      "Epoch 18/25\n",
      "5216/5216 [==============================] - 12s 2ms/step - loss: 8.2984e-04 - accuracy: 0.9998 - val_loss: 3.1645 - val_accuracy: 0.6731\n",
      "Epoch 19/25\n",
      "5216/5216 [==============================] - 11s 2ms/step - loss: 4.1842e-04 - accuracy: 1.0000 - val_loss: 3.7977 - val_accuracy: 0.6410\n",
      "Epoch 20/25\n",
      "5216/5216 [==============================] - 11s 2ms/step - loss: 5.9264e-04 - accuracy: 0.9998 - val_loss: 3.1713 - val_accuracy: 0.6709\n",
      "Epoch 21/25\n",
      "5216/5216 [==============================] - 12s 2ms/step - loss: 0.0059 - accuracy: 0.9985 - val_loss: 1.7578 - val_accuracy: 0.7521\n",
      "Epoch 22/25\n",
      "5216/5216 [==============================] - 12s 2ms/step - loss: 0.0129 - accuracy: 0.9954 - val_loss: 2.1274 - val_accuracy: 0.6560\n",
      "Epoch 23/25\n",
      "5216/5216 [==============================] - 11s 2ms/step - loss: 0.0297 - accuracy: 0.9898 - val_loss: 2.1263 - val_accuracy: 0.6880\n",
      "Epoch 24/25\n",
      "5216/5216 [==============================] - 11s 2ms/step - loss: 0.0108 - accuracy: 0.9950 - val_loss: 5.3126 - val_accuracy: 0.5406\n",
      "Epoch 25/25\n",
      "5216/5216 [==============================] - 11s 2ms/step - loss: 0.0076 - accuracy: 0.9977 - val_loss: 3.4087 - val_accuracy: 0.6709\n",
      "468/468 [==============================] - 0s 933us/step\n",
      "Train on 5216 samples, validate on 468 samples\n",
      "Epoch 1/25\n",
      "5216/5216 [==============================] - 13s 3ms/step - loss: 0.2361 - accuracy: 0.9101 - val_loss: 2.6132 - val_accuracy: 0.4850\n",
      "Epoch 2/25\n",
      "5216/5216 [==============================] - 12s 2ms/step - loss: 0.0967 - accuracy: 0.9624 - val_loss: 0.4809 - val_accuracy: 0.8226\n",
      "Epoch 3/25\n",
      "5216/5216 [==============================] - 12s 2ms/step - loss: 0.0615 - accuracy: 0.9780 - val_loss: 3.0688 - val_accuracy: 0.5171\n",
      "Epoch 4/25\n",
      "5216/5216 [==============================] - 12s 2ms/step - loss: 0.0443 - accuracy: 0.9843 - val_loss: 11.3746 - val_accuracy: 0.5000\n",
      "Epoch 5/25\n",
      "5216/5216 [==============================] - 12s 2ms/step - loss: 0.0370 - accuracy: 0.9875 - val_loss: 2.0524 - val_accuracy: 0.6474\n",
      "Epoch 6/25\n",
      "5216/5216 [==============================] - 12s 2ms/step - loss: 0.0263 - accuracy: 0.9900 - val_loss: 8.5714 - val_accuracy: 0.5000\n",
      "Epoch 7/25\n",
      "5216/5216 [==============================] - 12s 2ms/step - loss: 0.0251 - accuracy: 0.9923 - val_loss: 3.5947 - val_accuracy: 0.5577\n",
      "Epoch 8/25\n",
      "5216/5216 [==============================] - 12s 2ms/step - loss: 0.0101 - accuracy: 0.9971 - val_loss: 21.2652 - val_accuracy: 0.5000\n",
      "Epoch 9/25\n",
      "5216/5216 [==============================] - 12s 2ms/step - loss: 0.0121 - accuracy: 0.9950 - val_loss: 5.6381 - val_accuracy: 0.5513\n",
      "Epoch 10/25\n",
      "5216/5216 [==============================] - 11s 2ms/step - loss: 0.0054 - accuracy: 0.9983 - val_loss: 3.0020 - val_accuracy: 0.6325\n",
      "Epoch 11/25\n",
      "5216/5216 [==============================] - 12s 2ms/step - loss: 0.0016 - accuracy: 0.9994 - val_loss: 3.0085 - val_accuracy: 0.6239\n",
      "Epoch 12/25\n",
      "5216/5216 [==============================] - 12s 2ms/step - loss: 0.0027 - accuracy: 0.9992 - val_loss: 1.0511 - val_accuracy: 0.8205\n",
      "Epoch 13/25\n",
      "5216/5216 [==============================] - 12s 2ms/step - loss: 0.0053 - accuracy: 0.9985 - val_loss: 5.0374 - val_accuracy: 0.5769\n",
      "Epoch 14/25\n",
      "5216/5216 [==============================] - 12s 2ms/step - loss: 0.0033 - accuracy: 0.9992 - val_loss: 3.4753 - val_accuracy: 0.6453\n",
      "Epoch 15/25\n",
      "5216/5216 [==============================] - 11s 2ms/step - loss: 7.5342e-04 - accuracy: 1.0000 - val_loss: 2.3377 - val_accuracy: 0.7073\n",
      "Epoch 16/25\n",
      "5216/5216 [==============================] - 11s 2ms/step - loss: 2.8067e-04 - accuracy: 1.0000 - val_loss: 4.0308 - val_accuracy: 0.6261\n",
      "Epoch 17/25\n",
      "5216/5216 [==============================] - 11s 2ms/step - loss: 7.3017e-04 - accuracy: 0.9998 - val_loss: 3.3609 - val_accuracy: 0.6432\n",
      "Epoch 18/25\n",
      "5216/5216 [==============================] - 12s 2ms/step - loss: 7.6667e-04 - accuracy: 1.0000 - val_loss: 2.7548 - val_accuracy: 0.6774\n",
      "Epoch 19/25\n",
      "5216/5216 [==============================] - 12s 2ms/step - loss: 0.0015 - accuracy: 0.9996 - val_loss: 7.4276 - val_accuracy: 0.5491\n",
      "Epoch 20/25\n",
      "5216/5216 [==============================] - 11s 2ms/step - loss: 0.0695 - accuracy: 0.9801 - val_loss: 8.9830 - val_accuracy: 0.5214\n",
      "Epoch 21/25\n",
      "5216/5216 [==============================] - 11s 2ms/step - loss: 0.0120 - accuracy: 0.9967 - val_loss: 5.2903 - val_accuracy: 0.5919\n",
      "Epoch 22/25\n",
      "5216/5216 [==============================] - 11s 2ms/step - loss: 0.0061 - accuracy: 0.9977 - val_loss: 3.8394 - val_accuracy: 0.5812\n",
      "Epoch 23/25\n",
      "5216/5216 [==============================] - 11s 2ms/step - loss: 0.0184 - accuracy: 0.9942 - val_loss: 104.7204 - val_accuracy: 0.5000\n",
      "Epoch 24/25\n",
      "5216/5216 [==============================] - 11s 2ms/step - loss: 0.0062 - accuracy: 0.9983 - val_loss: 1.1646 - val_accuracy: 0.8034\n",
      "Epoch 25/25\n",
      "5216/5216 [==============================] - 12s 2ms/step - loss: 0.0011 - accuracy: 1.0000 - val_loss: 2.1992 - val_accuracy: 0.7179\n",
      "468/468 [==============================] - 0s 900us/step\n",
      "Train on 5216 samples, validate on 468 samples\n",
      "Epoch 1/25\n",
      "5216/5216 [==============================] - 13s 2ms/step - loss: 0.2793 - accuracy: 0.9074 - val_loss: 2.1309 - val_accuracy: 0.5000\n",
      "Epoch 2/25\n",
      "5216/5216 [==============================] - 12s 2ms/step - loss: 0.1056 - accuracy: 0.9634 - val_loss: 0.4946 - val_accuracy: 0.7265\n",
      "Epoch 3/25\n",
      "5216/5216 [==============================] - 12s 2ms/step - loss: 0.0677 - accuracy: 0.9741 - val_loss: 10.1369 - val_accuracy: 0.5000\n",
      "Epoch 4/25\n",
      "5216/5216 [==============================] - 12s 2ms/step - loss: 0.0393 - accuracy: 0.9862 - val_loss: 2.2999 - val_accuracy: 0.5192\n",
      "Epoch 5/25\n",
      "5216/5216 [==============================] - 12s 2ms/step - loss: 0.0267 - accuracy: 0.9900 - val_loss: 23.7104 - val_accuracy: 0.5000\n",
      "Epoch 6/25\n",
      "5216/5216 [==============================] - 12s 2ms/step - loss: 0.0256 - accuracy: 0.9900 - val_loss: 6.3489 - val_accuracy: 0.5000\n",
      "Epoch 7/25\n",
      "5216/5216 [==============================] - 12s 2ms/step - loss: 0.0102 - accuracy: 0.9960 - val_loss: 5.2506 - val_accuracy: 0.5235\n",
      "Epoch 8/25\n",
      "5216/5216 [==============================] - 12s 2ms/step - loss: 0.0081 - accuracy: 0.9975 - val_loss: 74.9014 - val_accuracy: 0.5000\n",
      "Epoch 9/25\n",
      "5216/5216 [==============================] - 12s 2ms/step - loss: 0.0076 - accuracy: 0.9981 - val_loss: 22.7978 - val_accuracy: 0.5000\n",
      "Epoch 10/25\n",
      "5216/5216 [==============================] - 12s 2ms/step - loss: 0.0130 - accuracy: 0.9950 - val_loss: 1.0757 - val_accuracy: 0.7543\n",
      "Epoch 11/25\n",
      "5216/5216 [==============================] - 12s 2ms/step - loss: 0.0078 - accuracy: 0.9975 - val_loss: 5.9962 - val_accuracy: 0.5064\n",
      "Epoch 12/25\n",
      "5216/5216 [==============================] - 12s 2ms/step - loss: 0.0111 - accuracy: 0.9965 - val_loss: 8.6654 - val_accuracy: 0.5021\n",
      "Epoch 13/25\n",
      "5216/5216 [==============================] - 12s 2ms/step - loss: 0.0056 - accuracy: 0.9985 - val_loss: 0.9709 - val_accuracy: 0.8248\n",
      "Epoch 14/25\n",
      "5216/5216 [==============================] - 12s 2ms/step - loss: 0.0138 - accuracy: 0.9952 - val_loss: 1.8890 - val_accuracy: 0.7543\n",
      "Epoch 15/25\n",
      "5216/5216 [==============================] - 12s 2ms/step - loss: 0.0052 - accuracy: 0.9981 - val_loss: 4.6179 - val_accuracy: 0.5962\n",
      "Epoch 16/25\n",
      "5216/5216 [==============================] - 12s 2ms/step - loss: 0.0052 - accuracy: 0.9987 - val_loss: 1.3641 - val_accuracy: 0.7265\n",
      "Epoch 17/25\n",
      "5216/5216 [==============================] - 12s 2ms/step - loss: 0.0067 - accuracy: 0.9971 - val_loss: 2.1363 - val_accuracy: 0.7350\n",
      "Epoch 18/25\n",
      "5216/5216 [==============================] - 12s 2ms/step - loss: 0.0117 - accuracy: 0.9965 - val_loss: 7.3210 - val_accuracy: 0.5491\n",
      "Epoch 19/25\n",
      "5216/5216 [==============================] - 12s 2ms/step - loss: 0.0024 - accuracy: 0.9994 - val_loss: 4.7661 - val_accuracy: 0.5962\n",
      "Epoch 20/25\n",
      "5216/5216 [==============================] - 12s 2ms/step - loss: 0.0039 - accuracy: 0.9983 - val_loss: 4.4326 - val_accuracy: 0.5620\n",
      "Epoch 21/25\n",
      "5216/5216 [==============================] - 12s 2ms/step - loss: 0.0061 - accuracy: 0.9979 - val_loss: 4.8754 - val_accuracy: 0.5534\n",
      "Epoch 22/25\n",
      "5216/5216 [==============================] - 12s 2ms/step - loss: 0.0068 - accuracy: 0.9971 - val_loss: 11.8576 - val_accuracy: 0.5043\n",
      "Epoch 23/25\n",
      "5216/5216 [==============================] - 12s 2ms/step - loss: 0.0151 - accuracy: 0.9965 - val_loss: 0.7176 - val_accuracy: 0.8761\n",
      "Epoch 24/25\n",
      "5216/5216 [==============================] - 12s 2ms/step - loss: 0.0035 - accuracy: 0.9990 - val_loss: 3.8851 - val_accuracy: 0.6517\n",
      "Epoch 25/25\n",
      "5216/5216 [==============================] - 12s 2ms/step - loss: 0.0023 - accuracy: 0.9990 - val_loss: 2.2822 - val_accuracy: 0.7521\n",
      "468/468 [==============================] - 0s 1ms/step\n",
      "Train on 5216 samples, validate on 468 samples\n",
      "Epoch 1/25\n",
      "5216/5216 [==============================] - 13s 2ms/step - loss: 0.1844 - accuracy: 0.9339 - val_loss: 0.7601 - val_accuracy: 0.6496\n",
      "Epoch 2/25\n",
      "5216/5216 [==============================] - 12s 2ms/step - loss: 0.0863 - accuracy: 0.9699 - val_loss: 5.5624 - val_accuracy: 0.5000\n",
      "Epoch 3/25\n",
      "5216/5216 [==============================] - 12s 2ms/step - loss: 0.0536 - accuracy: 0.9816 - val_loss: 4.4141 - val_accuracy: 0.5021\n",
      "Epoch 4/25\n",
      "5216/5216 [==============================] - 12s 2ms/step - loss: 0.0350 - accuracy: 0.9877 - val_loss: 31.2989 - val_accuracy: 0.5000\n",
      "Epoch 5/25\n",
      "5216/5216 [==============================] - 11s 2ms/step - loss: 0.0223 - accuracy: 0.9925 - val_loss: 5.3495 - val_accuracy: 0.5021\n",
      "Epoch 6/25\n",
      "5216/5216 [==============================] - 12s 2ms/step - loss: 0.0122 - accuracy: 0.9965 - val_loss: 3.9785 - val_accuracy: 0.6026\n",
      "Epoch 7/25\n",
      "5216/5216 [==============================] - 12s 2ms/step - loss: 0.0150 - accuracy: 0.9944 - val_loss: 3.3361 - val_accuracy: 0.5833\n",
      "Epoch 8/25\n",
      "5216/5216 [==============================] - 12s 2ms/step - loss: 0.0073 - accuracy: 0.9981 - val_loss: 1.8064 - val_accuracy: 0.6859\n",
      "Epoch 9/25\n",
      "5216/5216 [==============================] - 12s 2ms/step - loss: 0.0044 - accuracy: 0.9983 - val_loss: 2.3922 - val_accuracy: 0.6731\n",
      "Epoch 10/25\n",
      "5216/5216 [==============================] - 12s 2ms/step - loss: 0.0050 - accuracy: 0.9983 - val_loss: 3.3586 - val_accuracy: 0.5962\n",
      "Epoch 11/25\n",
      "5216/5216 [==============================] - 12s 2ms/step - loss: 0.0023 - accuracy: 0.9994 - val_loss: 1.3395 - val_accuracy: 0.8077\n",
      "Epoch 12/25\n",
      "5216/5216 [==============================] - 11s 2ms/step - loss: 0.0046 - accuracy: 0.9985 - val_loss: 3.5617 - val_accuracy: 0.5769\n",
      "Epoch 13/25\n",
      "5216/5216 [==============================] - 12s 2ms/step - loss: 0.0042 - accuracy: 0.9987 - val_loss: 1.7080 - val_accuracy: 0.6731\n",
      "Epoch 14/25\n",
      "5216/5216 [==============================] - 12s 2ms/step - loss: 0.0212 - accuracy: 0.9921 - val_loss: 1.8558 - val_accuracy: 0.6816\n",
      "Epoch 15/25\n",
      "5216/5216 [==============================] - 12s 2ms/step - loss: 0.0146 - accuracy: 0.9960 - val_loss: 2.7407 - val_accuracy: 0.7115\n",
      "Epoch 16/25\n",
      "5216/5216 [==============================] - 12s 2ms/step - loss: 0.0070 - accuracy: 0.9975 - val_loss: 1.0374 - val_accuracy: 0.8419\n",
      "Epoch 17/25\n",
      "5216/5216 [==============================] - 12s 2ms/step - loss: 0.0130 - accuracy: 0.9944 - val_loss: 5.6894 - val_accuracy: 0.5150\n",
      "Epoch 18/25\n",
      "5216/5216 [==============================] - 12s 2ms/step - loss: 0.0105 - accuracy: 0.9977 - val_loss: 2.6199 - val_accuracy: 0.6538\n",
      "Epoch 19/25\n",
      "5216/5216 [==============================] - 12s 2ms/step - loss: 0.0065 - accuracy: 0.9975 - val_loss: 0.8647 - val_accuracy: 0.8355\n",
      "Epoch 20/25\n",
      "5216/5216 [==============================] - 12s 2ms/step - loss: 8.8511e-04 - accuracy: 1.0000 - val_loss: 2.4765 - val_accuracy: 0.6923\n",
      "Epoch 21/25\n",
      "5216/5216 [==============================] - 12s 2ms/step - loss: 4.1119e-04 - accuracy: 1.0000 - val_loss: 3.7428 - val_accuracy: 0.6346\n",
      "Epoch 22/25\n",
      "5216/5216 [==============================] - 12s 2ms/step - loss: 2.0904e-04 - accuracy: 1.0000 - val_loss: 3.6469 - val_accuracy: 0.6389\n",
      "Epoch 23/25\n",
      "5216/5216 [==============================] - 12s 2ms/step - loss: 5.5858e-04 - accuracy: 1.0000 - val_loss: 3.3493 - val_accuracy: 0.6603\n",
      "Epoch 24/25\n",
      "5216/5216 [==============================] - 11s 2ms/step - loss: 6.3784e-04 - accuracy: 0.9998 - val_loss: 3.2326 - val_accuracy: 0.6795\n",
      "Epoch 25/25\n",
      "5216/5216 [==============================] - 11s 2ms/step - loss: 5.6560e-04 - accuracy: 1.0000 - val_loss: 2.2054 - val_accuracy: 0.7286\n",
      "468/468 [==============================] - 0s 942us/step\n"
     ]
    }
   ],
   "source": [
    "accuracy = []\n",
    "for i in range(0,10):\n",
    "    model = create_model() \n",
    "    opt = optimizers.Adam(lr=0.01)\n",
    "    model.compile(loss='categorical_crossentropy',optimizer=opt, metrics=['accuracy'])\n",
    "    model.fit(X_train, y_train_ohe,batch_size=64,epochs=25,validation_data=(X_test, y_test_ohe))# model\n",
    "    score = model.evaluate(X_test, y_test_ohe)\n",
    "    accuracy.append(round(score[1]*100))\n"
   ]
  },
  {
   "cell_type": "code",
   "execution_count": 14,
   "metadata": {},
   "outputs": [
    {
     "name": "stdout",
     "output_type": "stream",
     "text": [
      "[55, 67, 66, 66, 55, 68, 67, 72, 75, 73]\n"
     ]
    }
   ],
   "source": [
    "print(accuracy)"
   ]
  },
  {
   "cell_type": "code",
   "execution_count": 12,
   "metadata": {
    "scrolled": true
   },
   "outputs": [
    {
     "name": "stderr",
     "output_type": "stream",
     "text": [
      "W0213 10:52:43.120702 140028321982272 deprecation.py:506] From /usr/local/lib/python3.6/dist-packages/tensorflow_core/python/ops/resource_variable_ops.py:1633: calling BaseResourceVariable.__init__ (from tensorflow.python.ops.resource_variable_ops) with constraint is deprecated and will be removed in a future version.\n",
      "Instructions for updating:\n",
      "If using Keras pass *_constraint arguments to layers.\n",
      "W0213 10:52:44.873054 140028321982272 module_wrapper.py:136] From /usr/local/lib/python3.6/dist-packages/tensorflow_core/python/util/module_wrapper.py:163: The name tf.nn.max_pool is deprecated. Please use tf.nn.max_pool2d instead.\n",
      "\n",
      "W0213 10:52:45.549337 140028321982272 deprecation.py:323] From /usr/local/lib/python3.6/dist-packages/keras/optimizers.py:550: BaseResourceVariable.constraint (from tensorflow.python.ops.resource_variable_ops) is deprecated and will be removed in a future version.\n",
      "Instructions for updating:\n",
      "Apply a constraint manually following the optimizer update step.\n"
     ]
    },
    {
     "name": "stdout",
     "output_type": "stream",
     "text": [
      "Train on 5216 samples, validate on 468 samples\n",
      "Epoch 1/25\n",
      "5216/5216 [==============================] - 14s 3ms/step - loss: 0.2233 - accuracy: 0.9216 - val_loss: 0.4517 - val_accuracy: 0.7863\n",
      "Epoch 2/25\n",
      "5216/5216 [==============================] - 11s 2ms/step - loss: 0.0874 - accuracy: 0.9676 - val_loss: 2.6316 - val_accuracy: 0.5000\n",
      "Epoch 3/25\n",
      "5216/5216 [==============================] - 12s 2ms/step - loss: 0.0590 - accuracy: 0.9797 - val_loss: 1.5411 - val_accuracy: 0.5769\n",
      "Epoch 4/25\n",
      "5216/5216 [==============================] - 12s 2ms/step - loss: 0.0471 - accuracy: 0.9831 - val_loss: 4.5266 - val_accuracy: 0.5000\n",
      "Epoch 5/25\n",
      "5216/5216 [==============================] - 12s 2ms/step - loss: 0.0376 - accuracy: 0.9870 - val_loss: 4.2628 - val_accuracy: 0.5085\n",
      "Epoch 6/25\n",
      "5216/5216 [==============================] - 12s 2ms/step - loss: 0.0195 - accuracy: 0.9935 - val_loss: 3.2577 - val_accuracy: 0.5235\n",
      "Epoch 7/25\n",
      "5216/5216 [==============================] - 12s 2ms/step - loss: 0.0129 - accuracy: 0.9954 - val_loss: 6.6790 - val_accuracy: 0.5021\n",
      "Epoch 8/25\n",
      "5216/5216 [==============================] - 12s 2ms/step - loss: 0.0077 - accuracy: 0.9973 - val_loss: 3.5165 - val_accuracy: 0.5748\n",
      "Epoch 9/25\n",
      "5216/5216 [==============================] - 12s 2ms/step - loss: 0.0024 - accuracy: 0.9990 - val_loss: 4.0935 - val_accuracy: 0.5812\n",
      "Epoch 10/25\n",
      "5216/5216 [==============================] - 12s 2ms/step - loss: 0.0028 - accuracy: 0.9988 - val_loss: 1.9987 - val_accuracy: 0.6368\n",
      "Epoch 11/25\n",
      "5216/5216 [==============================] - 12s 2ms/step - loss: 0.0010 - accuracy: 1.0000 - val_loss: 3.2104 - val_accuracy: 0.6560\n",
      "Epoch 12/25\n",
      "5216/5216 [==============================] - 12s 2ms/step - loss: 0.0037 - accuracy: 0.9983 - val_loss: 4.6231 - val_accuracy: 0.5192\n",
      "Epoch 13/25\n",
      "5216/5216 [==============================] - 12s 2ms/step - loss: 0.0031 - accuracy: 0.9990 - val_loss: 3.3135 - val_accuracy: 0.5919\n",
      "Epoch 14/25\n",
      "5216/5216 [==============================] - 12s 2ms/step - loss: 0.0032 - accuracy: 0.9992 - val_loss: 3.0032 - val_accuracy: 0.7436\n",
      "Epoch 15/25\n",
      "5216/5216 [==============================] - 12s 2ms/step - loss: 0.0079 - accuracy: 0.9969 - val_loss: 0.9654 - val_accuracy: 0.8141\n",
      "Epoch 16/25\n",
      "5216/5216 [==============================] - 12s 2ms/step - loss: 0.0146 - accuracy: 0.9937 - val_loss: 5.8007 - val_accuracy: 0.6389\n",
      "Epoch 17/25\n",
      "5216/5216 [==============================] - 11s 2ms/step - loss: 0.0346 - accuracy: 0.9900 - val_loss: 0.8318 - val_accuracy: 0.7671\n",
      "Epoch 18/25\n",
      "5216/5216 [==============================] - 11s 2ms/step - loss: 0.0079 - accuracy: 0.9969 - val_loss: 4.5296 - val_accuracy: 0.5620\n",
      "Epoch 19/25\n",
      "5216/5216 [==============================] - 12s 2ms/step - loss: 0.0030 - accuracy: 0.9988 - val_loss: 2.1015 - val_accuracy: 0.7692\n",
      "Epoch 20/25\n",
      "5216/5216 [==============================] - 11s 2ms/step - loss: 0.0044 - accuracy: 0.9988 - val_loss: 4.6056 - val_accuracy: 0.6004\n",
      "Epoch 21/25\n",
      "5216/5216 [==============================] - 11s 2ms/step - loss: 0.0014 - accuracy: 0.9998 - val_loss: 5.2222 - val_accuracy: 0.5641\n",
      "Epoch 22/25\n",
      "5216/5216 [==============================] - 12s 2ms/step - loss: 0.0028 - accuracy: 0.9990 - val_loss: 4.4705 - val_accuracy: 0.5876\n",
      "Epoch 23/25\n",
      "5216/5216 [==============================] - 12s 2ms/step - loss: 0.0027 - accuracy: 0.9990 - val_loss: 1.4576 - val_accuracy: 0.7628\n",
      "Epoch 24/25\n",
      "5216/5216 [==============================] - 12s 2ms/step - loss: 0.0020 - accuracy: 0.9996 - val_loss: 2.9972 - val_accuracy: 0.6966\n",
      "Epoch 25/25\n",
      "5216/5216 [==============================] - 11s 2ms/step - loss: 1.8578e-04 - accuracy: 1.0000 - val_loss: 3.7490 - val_accuracy: 0.6538\n"
     ]
    }
   ],
   "source": [
    "model = create_model()\n",
    "opt = optimizers.Adam(lr=0.01)\n",
    "model.compile(loss='categorical_crossentropy',optimizer=opt, metrics=['accuracy'])\n",
    "history = model.fit(X_train, y_train_ohe,batch_size=64,epochs=25,validation_data=(X_test, y_test_ohe))# model"
   ]
  },
  {
   "cell_type": "code",
   "execution_count": 39,
   "metadata": {},
   "outputs": [
    {
     "name": "stdout",
     "output_type": "stream",
     "text": [
      "dict_keys(['val_loss', 'val_accuracy', 'loss', 'accuracy'])\n"
     ]
    }
   ],
   "source": [
    "print(history.history.keys())"
   ]
  },
  {
   "cell_type": "code",
   "execution_count": 14,
   "metadata": {},
   "outputs": [
    {
     "data": {
      "image/png": "[encoded data removed]",
      "text/plain": [
       "<Figure size 432x288 with 1 Axes>"
      ]
     },
     "metadata": {
      "needs_background": "light"
     },
     "output_type": "display_data"
    }
   ],
   "source": [
    "import matplotlib.pyplot as plt\n",
    "\n",
    "plt.plot(history.history['accuracy'])\n",
    "plt.plot(history.history['val_accuracy'])\n",
    "plt.title('model accuracy')\n",
    "plt.ylabel('accuracy')\n",
    "plt.xlabel('epoch')\n",
    "plt.legend(['train','test'],loc='upper left')\n",
    "plt.savefig('train_vs_test_accuracy_shuffled.png')\n",
    "plt.show()\n"
   ]
  },
  {
   "cell_type": "code",
   "execution_count": null,
   "metadata": {},
   "outputs": [],
   "source": [
    "## What does the above graph tell us about the model \n",
    "## -> What we see is that when it comes to training the model, it has high accuracy on the training set.\n",
    "# However when looking at the testing accuracy we can see the accuracy after every epoch is quite volatile. \n",
    "# What this tell us is that the model has clearly not been able to learn from training data. When looking at the graph it also shows overfitting \n",
    "## But this comes secondary to the concept of the model actually underfitting even though the the accuracy on the training data is high. "
   ]
  },
  {
   "cell_type": "code",
   "execution_count": 15,
   "metadata": {
    "scrolled": true
   },
   "outputs": [
    {
     "data": {
      "image/png": "[encoded data removed]",
      "text/plain": [
       "<Figure size 432x288 with 1 Axes>"
      ]
     },
     "metadata": {
      "needs_background": "light"
     },
     "output_type": "display_data"
    }
   ],
   "source": [
    "# summarize history for loss\n",
    "plt.plot(history.history['loss'])\n",
    "plt.plot(history.history['val_loss'])\n",
    "plt.title('model loss')\n",
    "plt.ylabel('loss')\n",
    "plt.xlabel('epoch')\n",
    "plt.legend(['train', 'test'], loc='upper left')\n",
    "plt.savefig('train_vs_test_loss_shuffled.png')\n",
    "plt.show()"
   ]
  },
  {
   "cell_type": "code",
   "execution_count": 35,
   "metadata": {},
   "outputs": [
    {
     "name": "stdout",
     "output_type": "stream",
     "text": [
      "468/468 [==============================] - 0s 948us/step\n",
      "Loss  10.586837837074555\n",
      "Test accuracy:  52.99145579338074\n"
     ]
    }
   ],
   "source": [
    "score = model.evaluate(X_test, y_test_ohe)\n",
    "print('Loss ' , score[0])\n",
    "print('Test accuracy: ', score[1]*100)"
   ]
  },
  {
   "cell_type": "code",
   "execution_count": 25,
   "metadata": {},
   "outputs": [
    {
     "data": {
      "text/plain": [
       "array([1, 1, 1, 1, 1, 1, 1, 1, 1, 1, 1, 1, 1, 1, 1, 1, 1, 1, 1, 1, 1, 1,\n",
       "       1, 1, 1, 1, 1, 1, 1, 1, 1, 1, 1, 1, 1, 1, 1, 1, 1, 1, 1, 1, 1, 1,\n",
       "       1, 1, 1, 1, 1, 1, 1, 1, 1, 1, 1, 1, 1, 1, 1, 1, 1, 1, 1, 1, 1, 1,\n",
       "       1, 1, 1, 1, 1, 1, 1, 1, 1, 1, 1, 1, 1, 1, 1, 1, 1, 1, 1, 1, 1, 1,\n",
       "       1, 1, 1, 1, 1, 1, 1, 1, 1, 1, 1, 1, 1, 1, 1, 1, 1, 1, 1, 1, 1, 1,\n",
       "       1, 1, 0, 1, 1, 1, 1, 1, 1, 1, 1, 1, 1, 1, 1, 1, 1, 1, 1, 1, 1, 1,\n",
       "       1, 1, 1, 1, 1, 1, 1, 1, 1, 1, 1, 1, 1, 1, 1, 1, 1, 1, 1, 1, 1, 1,\n",
       "       1, 1, 1, 1, 1, 1, 1, 1, 1, 1, 1, 1, 1, 1, 1, 1, 1, 1, 1, 1, 1, 1,\n",
       "       1, 1, 1, 1, 1, 1, 1, 1, 1, 1, 1, 1, 1, 1, 1, 1, 1, 1, 1, 1, 1, 1,\n",
       "       1, 1, 1, 1, 1, 1, 1, 1, 1, 1, 1, 1, 1, 1, 1, 1, 1, 1, 1, 1, 1, 1,\n",
       "       1, 1, 1, 1, 1, 1, 1, 1, 1, 1, 1, 1, 1, 1])"
      ]
     },
     "execution_count": 25,
     "metadata": {},
     "output_type": "execute_result"
    }
   ],
   "source": [
    "y_pred = model.predict_classes(X_test)\n",
    "y_pred[234:]"
   ]
  },
  {
   "cell_type": "markdown",
   "metadata": {},
   "source": [
    "## Lets Visualise the output of Confusion Matrix"
   ]
  },
  {
   "cell_type": "code",
   "execution_count": 26,
   "metadata": {},
   "outputs": [
    {
     "name": "stdout",
     "output_type": "stream",
     "text": [
      "['TN', 'FP']\n",
      "['FN', 'TP']\n",
      "Confusion Matrix\n",
      "[[  1 233]\n",
      " [  0 234]]\n",
      "              precision    recall  f1-score   support\n",
      "\n",
      "         0.0       1.00      0.00      0.01       234\n",
      "         1.0       0.50      1.00      0.67       234\n",
      "\n",
      "    accuracy                           0.50       468\n",
      "   macro avg       0.75      0.50      0.34       468\n",
      "weighted avg       0.75      0.50      0.34       468\n",
      "\n"
     ]
    }
   ],
   "source": [
    "import matplotlib.pyplot as plt\n",
    "import pandas\n",
    "import numpy as np\n",
    "from sklearn.metrics import confusion_matrix\n",
    "\n",
    "matrix = [\"TN\",\"FP\"],[\"FN\",\"TP\"]\n",
    "print(matrix[0])\n",
    "print(matrix[1])\n",
    "\n",
    "##Lets Visualise the output\n",
    "conf=confusion_matrix(Y_test, y_pred)\n",
    "print(\"Confusion Matrix\")\n",
    "print(conf)\n",
    "# or we can use a heatmap from the seaborn library\n",
    "#import seaborn as sn\n",
    "#df_cm = pandas.DataFrame(conf, range(2), range(2))\n",
    "#sn.set(font_scale=1.4)#for label size\n",
    "#sn.heatmap(df_cm, cmap=\"YlGnBu\", annot=True, annot_kws={\"size\": 20},fmt=\"d\")# font size\n",
    "\n",
    "from sklearn.metrics import classification_report\n",
    "print(classification_report(Y_test,y_pred))"
   ]
  },
  {
   "cell_type": "code",
   "execution_count": null,
   "metadata": {},
   "outputs": [],
   "source": []
  },
  {
   "cell_type": "code",
   "execution_count": null,
   "metadata": {},
   "outputs": [],
   "source": []
  }
 ],
 "metadata": {
  "kernelspec": {
   "display_name": "Python 3",
   "language": "python",
   "name": "python3"
  },
  "language_info": {
   "codemirror_mode": {
    "name": "ipython",
    "version": 3
   },
   "file_extension": ".py",
   "mimetype": "text/x-python",
   "name": "python",
   "nbconvert_exporter": "python",
   "pygments_lexer": "ipython3",
   "version": "3.6.8"
  }
 },
 "nbformat": 4,
 "nbformat_minor": 2
}
