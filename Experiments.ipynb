{
 "cells": [
  {
   "cell_type": "markdown",
   "metadata": {},
   "source": [
    "# Python Implementation of Experiments for Thesis"
   ]
  },
  {
   "cell_type": "markdown",
   "metadata": {},
   "source": [
    "### Import Libraries"
   ]
  },
  {
   "cell_type": "code",
   "execution_count": 1,
   "metadata": {},
   "outputs": [
    {
     "name": "stderr",
     "output_type": "stream",
     "text": [
      "/usr/local/lib/python3.6/dist-packages/tensorboard/compat/tensorflow_stub/dtypes.py:541: FutureWarning: Passing (type, 1) or '1type' as a synonym of type is deprecated; in a future version of numpy, it will be understood as (type, (1,)) / '(1,)type'.\n",
      "  _np_qint8 = np.dtype([(\"qint8\", np.int8, 1)])\n",
      "/usr/local/lib/python3.6/dist-packages/tensorboard/compat/tensorflow_stub/dtypes.py:542: FutureWarning: Passing (type, 1) or '1type' as a synonym of type is deprecated; in a future version of numpy, it will be understood as (type, (1,)) / '(1,)type'.\n",
      "  _np_quint8 = np.dtype([(\"quint8\", np.uint8, 1)])\n",
      "/usr/local/lib/python3.6/dist-packages/tensorboard/compat/tensorflow_stub/dtypes.py:543: FutureWarning: Passing (type, 1) or '1type' as a synonym of type is deprecated; in a future version of numpy, it will be understood as (type, (1,)) / '(1,)type'.\n",
      "  _np_qint16 = np.dtype([(\"qint16\", np.int16, 1)])\n",
      "/usr/local/lib/python3.6/dist-packages/tensorboard/compat/tensorflow_stub/dtypes.py:544: FutureWarning: Passing (type, 1) or '1type' as a synonym of type is deprecated; in a future version of numpy, it will be understood as (type, (1,)) / '(1,)type'.\n",
      "  _np_quint16 = np.dtype([(\"quint16\", np.uint16, 1)])\n",
      "/usr/local/lib/python3.6/dist-packages/tensorboard/compat/tensorflow_stub/dtypes.py:545: FutureWarning: Passing (type, 1) or '1type' as a synonym of type is deprecated; in a future version of numpy, it will be understood as (type, (1,)) / '(1,)type'.\n",
      "  _np_qint32 = np.dtype([(\"qint32\", np.int32, 1)])\n",
      "/usr/local/lib/python3.6/dist-packages/tensorboard/compat/tensorflow_stub/dtypes.py:550: FutureWarning: Passing (type, 1) or '1type' as a synonym of type is deprecated; in a future version of numpy, it will be understood as (type, (1,)) / '(1,)type'.\n",
      "  np_resource = np.dtype([(\"resource\", np.ubyte, 1)])\n",
      "WARNING: Logging before flag parsing goes to stderr.\n",
      "W0212 17:21:40.847784 140124757100352 module_wrapper.py:136] From /usr/local/lib/python3.6/dist-packages/tensorflow_core/python/util/module_wrapper.py:163: The name tf.set_random_seed is deprecated. Please use tf.compat.v1.set_random_seed instead.\n",
      "\n",
      "Using TensorFlow backend.\n"
     ]
    }
   ],
   "source": [
    "# Import libraries\n",
    "#-------------------------Setting the randomness-------#\n",
    "from numpy.random import seed\n",
    "seed(1)\n",
    "\n",
    "from tensorflow import set_random_seed\n",
    "set_random_seed(1)\n",
    "#------------------------------------------------------#\n",
    "\n",
    "import numpy as np\n",
    "import keras\n",
    "from keras.models import Sequential\n",
    "from keras import optimizers\n",
    "from keras.layers.normalization import BatchNormalization\n",
    "from keras.layers import Conv2D, MaxPooling2D, ZeroPadding2D, GlobalAveragePooling2D\n",
    "from keras.layers.core import Dense, Dropout, Flatten, Activation,Reshape\n",
    "\n",
    "from sklearn.utils import shuffle\n",
    "from sklearn.model_selection import GridSearchCV\n",
    "\n",
    "\n"
   ]
  },
  {
   "cell_type": "markdown",
   "metadata": {},
   "source": [
    "## Load in training and testing dataset"
   ]
  },
  {
   "cell_type": "code",
   "execution_count": 2,
   "metadata": {},
   "outputs": [],
   "source": [
    "from numpy import load\n",
    "train_data = load('training_data.npy')\n",
    "test_data = load('testing_data.npy')"
   ]
  },
  {
   "cell_type": "code",
   "execution_count": 3,
   "metadata": {},
   "outputs": [
    {
     "name": "stdout",
     "output_type": "stream",
     "text": [
      "[1.         0.05098039 0.05490196 ... 0.05098039 0.04705882 0.04705882]\n",
      "[0.         0.09019608 0.07058824 ... 0.44705883 0.45882353 0.44313726]\n",
      "1341\n"
     ]
    }
   ],
   "source": [
    "print(train_data[3874])\n",
    "print(train_data[3875])\n",
    "print(len(train_data[3875:]))\n"
   ]
  },
  {
   "cell_type": "code",
   "execution_count": 4,
   "metadata": {},
   "outputs": [
    {
     "name": "stdout",
     "output_type": "stream",
     "text": [
      "[1.         0.03137255 0.04705882 ... 0.         0.         0.        ]\n",
      "[0.         0.12156863 0.12156863 ... 0.1254902  0.12941177 0.13333334]\n"
     ]
    }
   ],
   "source": [
    "print(test_data[389])\n",
    "print(test_data[390])"
   ]
  },
  {
   "cell_type": "markdown",
   "metadata": {},
   "source": [
    " ## Method to choose balancing of training data"
   ]
  },
  {
   "cell_type": "code",
   "execution_count": 5,
   "metadata": {},
   "outputs": [],
   "source": [
    "def balanced(option):\n",
    "    if(option==\"yes\"):\n",
    "        training_data = np.concatenate((train_data[0:1341],train_data[3875:]),axis=0)\n",
    "        testing_data = np.concatenate((test_data[0:234],test_data[390:]))\n",
    "        #training_data = train_data\n",
    "        return training_data,testing_data\n",
    "    else:\n",
    "        training_data = train_data\n",
    "        testing_data = np.concatenate((test_data[0:234],test_data[390:]))\n",
    "        return training_data,testing_data\n"
   ]
  },
  {
   "cell_type": "code",
   "execution_count": 6,
   "metadata": {},
   "outputs": [
    {
     "name": "stdout",
     "output_type": "stream",
     "text": [
      "(5216, 62501)\n",
      "(468, 62501)\n"
     ]
    }
   ],
   "source": [
    "training_data,test_data=balanced(\"no\")\n",
    "print(training_data.shape)\n",
    "print(test_data.shape)"
   ]
  },
  {
   "cell_type": "markdown",
   "metadata": {},
   "source": [
    "## We need to shuffle the data to allow the Model to learn in a varied manner\n"
   ]
  },
  {
   "cell_type": "code",
   "execution_count": 14,
   "metadata": {},
   "outputs": [
    {
     "name": "stdout",
     "output_type": "stream",
     "text": [
      "[[1.]\n",
      " [1.]\n",
      " [1.]\n",
      " [1.]\n",
      " [1.]]\n"
     ]
    }
   ],
   "source": [
    "## Shuffling the data to make it more varied with yes or no to shuffling\n",
    "def ShuffelData(data,option):\n",
    "    if(option==\"yes\"):\n",
    "        data = shuffle(data,random_state=0)\n",
    "        return data\n",
    "    else:\n",
    "        return data\n",
    "training_data = ShuffelData(training_data,\"no\")"
   ]
  },
  {
   "cell_type": "code",
   "execution_count": 8,
   "metadata": {},
   "outputs": [],
   "source": [
    "X_train = training_data[0:,1:]\n",
    "Y_train = training_data[0:,0:1]\n",
    "X_test = test_data[0:,1:]\n",
    "Y_test = test_data[0:,0:1]"
   ]
  },
  {
   "cell_type": "code",
   "execution_count": 9,
   "metadata": {},
   "outputs": [],
   "source": [
    "y_train_ohe = keras.utils.to_categorical(Y_train, 2)\n",
    "y_test_ohe = keras.utils.to_categorical(Y_test, 2)"
   ]
  },
  {
   "cell_type": "code",
   "execution_count": 10,
   "metadata": {},
   "outputs": [
    {
     "name": "stdout",
     "output_type": "stream",
     "text": [
      "(5216, 250, 250, 1)\n",
      "(468, 250, 250, 1)\n"
     ]
    }
   ],
   "source": [
    "X_train = X_train.reshape(X_train.shape[0],250,250,1)\n",
    "print(X_train.shape)\n",
    "X_test = X_test.reshape(X_test.shape[0],250,250,1)\n",
    "print(X_test.shape)"
   ]
  },
  {
   "cell_type": "markdown",
   "metadata": {},
   "source": [
    "## Create 2D CNN \n",
    "\n",
    "## 1. Define Sequential Model\n",
    "## 2. Add 2D CNN with 32 filters,3x3 filters\n",
    "## 3. Apply Relu\n",
    "## 4. Apply Batch Norm\n",
    "## Repeat x2\n",
    "## 5. Apply MaxPooling(2,2)\n",
    "## 6. Send through Fully Connected Layer\n"
   ]
  },
  {
   "cell_type": "code",
   "execution_count": 15,
   "metadata": {},
   "outputs": [],
   "source": [
    "def create_model():\n",
    "    model_CNN = Sequential()\n",
    "    model_CNN.add(Conv2D(32,(3,3),input_shape=(250,250,1)))\n",
    "    model_CNN.add(Activation('relu'))\n",
    "    model_CNN.add(BatchNormalization(axis=-1))\n",
    "    model_CNN.add(Conv2D(32, (3, 3)))\n",
    "    model_CNN.add(Activation('relu'))\n",
    "    model_CNN.add(BatchNormalization(axis=-1))\n",
    "\n",
    "    model_CNN.add(MaxPooling2D(pool_size=(2,2)))\n",
    "    \n",
    "    model_CNN.add(Flatten())\n",
    "\n",
    "    # Fully connected layer\n",
    "    model_CNN.add(Dense(128))\n",
    "    model_CNN.add(Activation('relu'))\n",
    "    model_CNN.add(BatchNormalization())\n",
    "    #model_CNN.add(Dropout(0.2))\n",
    "    model_CNN.add(Dense(2))\n",
    "    model_CNN.add(Activation('softmax'))\n",
    "    \n",
    "    return model_CNN"
   ]
  },
  {
   "cell_type": "markdown",
   "metadata": {},
   "source": [
    "# Setup for the experiment below\n",
    "\n",
    "## 1. Model is ran with the above architeture \n",
    "## 2.Trained on Imbalanced Set\n",
    "## 3. Tested on Balanced Set\n",
    "## 4. Ran for 10x to see if accuracy is the same"
   ]
  },
  {
   "cell_type": "markdown",
   "metadata": {},
   "source": [
    "# This is a test to see if running 10 experiments for the same setup of model produces the same results "
   ]
  },
  {
   "cell_type": "code",
   "execution_count": 12,
   "metadata": {
    "scrolled": true
   },
   "outputs": [
    {
     "name": "stderr",
     "output_type": "stream",
     "text": [
      "W0212 17:21:42.407359 140124757100352 deprecation.py:506] From /usr/local/lib/python3.6/dist-packages/tensorflow_core/python/ops/resource_variable_ops.py:1633: calling BaseResourceVariable.__init__ (from tensorflow.python.ops.resource_variable_ops) with constraint is deprecated and will be removed in a future version.\n",
      "Instructions for updating:\n",
      "If using Keras pass *_constraint arguments to layers.\n",
      "W0212 17:21:44.217491 140124757100352 module_wrapper.py:136] From /usr/local/lib/python3.6/dist-packages/tensorflow_core/python/util/module_wrapper.py:163: The name tf.nn.max_pool is deprecated. Please use tf.nn.max_pool2d instead.\n",
      "\n",
      "W0212 17:21:44.959383 140124757100352 deprecation.py:323] From /usr/local/lib/python3.6/dist-packages/keras/optimizers.py:550: BaseResourceVariable.constraint (from tensorflow.python.ops.resource_variable_ops) is deprecated and will be removed in a future version.\n",
      "Instructions for updating:\n",
      "Apply a constraint manually following the optimizer update step.\n"
     ]
    },
    {
     "name": "stdout",
     "output_type": "stream",
     "text": [
      "Train on 5216 samples, validate on 468 samples\n",
      "Epoch 1/1\n",
      "5216/5216 [==============================] - 14s 3ms/step - loss: 0.2443 - accuracy: 0.9130 - val_loss: 0.7010 - val_accuracy: 0.6175\n",
      "468/468 [==============================] - 0s 998us/step\n",
      "61.752134561538696\n",
      "Train on 5216 samples, validate on 468 samples\n",
      "Epoch 1/1\n",
      "5216/5216 [==============================] - 12s 2ms/step - loss: 0.2159 - accuracy: 0.9216 - val_loss: 11.2560 - val_accuracy: 0.4444\n",
      "468/468 [==============================] - 0s 877us/step\n",
      "44.44444477558136\n",
      "Train on 5216 samples, validate on 468 samples\n",
      "Epoch 1/1\n",
      "5216/5216 [==============================] - 13s 3ms/step - loss: 0.2288 - accuracy: 0.9210 - val_loss: 1.7695 - val_accuracy: 0.5064\n",
      "468/468 [==============================] - 0s 895us/step\n",
      "50.641024112701416\n",
      "Train on 5216 samples, validate on 468 samples\n",
      "Epoch 1/1\n",
      "5216/5216 [==============================] - 13s 2ms/step - loss: 0.2720 - accuracy: 0.9080 - val_loss: 2.0317 - val_accuracy: 0.5000\n",
      "468/468 [==============================] - 0s 908us/step\n",
      "50.0\n",
      "Train on 5216 samples, validate on 468 samples\n",
      "Epoch 1/1\n",
      "5216/5216 [==============================] - 13s 2ms/step - loss: 0.2655 - accuracy: 0.9168 - val_loss: 1.5532 - val_accuracy: 0.5406\n",
      "468/468 [==============================] - 0s 915us/step\n",
      "54.05982732772827\n",
      "Train on 5216 samples, validate on 468 samples\n",
      "Epoch 1/1\n",
      "5216/5216 [==============================] - 14s 3ms/step - loss: 0.2277 - accuracy: 0.9252 - val_loss: 0.9451 - val_accuracy: 0.5235\n",
      "468/468 [==============================] - 0s 933us/step\n",
      "52.350425720214844\n",
      "Train on 5216 samples, validate on 468 samples\n",
      "Epoch 1/1\n",
      "5216/5216 [==============================] - 12s 2ms/step - loss: 0.2528 - accuracy: 0.9118 - val_loss: 0.4833 - val_accuracy: 0.7543\n",
      "468/468 [==============================] - 0s 912us/step\n",
      "75.4273533821106\n",
      "Train on 5216 samples, validate on 468 samples\n",
      "Epoch 1/1\n",
      "5216/5216 [==============================] - 13s 2ms/step - loss: 0.1942 - accuracy: 0.9273 - val_loss: 0.6756 - val_accuracy: 0.5726\n",
      "468/468 [==============================] - 0s 900us/step\n",
      "57.26495981216431\n",
      "Train on 5216 samples, validate on 468 samples\n",
      "Epoch 1/1\n",
      "5216/5216 [==============================] - 13s 3ms/step - loss: 0.2185 - accuracy: 0.9312 - val_loss: 1.9927 - val_accuracy: 0.5000\n",
      "468/468 [==============================] - 0s 934us/step\n",
      "50.0\n",
      "Train on 5216 samples, validate on 468 samples\n",
      "Epoch 1/1\n",
      "5216/5216 [==============================] - 13s 2ms/step - loss: 0.2550 - accuracy: 0.9107 - val_loss: 8.2649 - val_accuracy: 0.5000\n",
      "468/468 [==============================] - 0s 881us/step\n",
      "50.0\n"
     ]
    }
   ],
   "source": [
    "accuracy = []\n",
    "for i in range(0,10):\n",
    "    model = create_model()\n",
    "    opt = optimizers.Adam(lr=0.01)\n",
    "    model.compile(loss='categorical_crossentropy',optimizer=opt, metrics=['accuracy'])\n",
    "    #history = model.fit(X_train, y_train_ohe,batch_size=64,epochs=1,validation_data=(X_test, y_test_ohe))# model\n",
    "    model.fit(X_train, y_train_ohe,batch_size=64,epochs=1,validation_data=(X_test, y_test_ohe))# model\n",
    "    score = model.evaluate(X_test, y_test_ohe)\n",
    "    accuracy.append(score)\n",
    "    print(score[1]*100)"
   ]
  },
  {
   "cell_type": "markdown",
   "metadata": {},
   "source": [
    "## This shows that results are quite varied and needs to be investigated"
   ]
  },
  {
   "cell_type": "code",
   "execution_count": 13,
   "metadata": {},
   "outputs": [
    {
     "name": "stdout",
     "output_type": "stream",
     "text": [
      "62\n",
      "44\n",
      "51\n",
      "50\n",
      "54\n",
      "52\n",
      "75\n",
      "57\n",
      "50\n",
      "50\n"
     ]
    }
   ],
   "source": [
    "for i in range(0,10):\n",
    "    score = accuracy[i]\n",
    "    #print(score[1]*100)\n",
    "    print(round(score[1]*100))\n",
    "##print(accuracy[0].evaluate)\n",
    "#for i in range(0,5):\n",
    "   # score = accuracy[i].evaluate(X_test, y_test_ohe)\n",
    "    \n",
    "   # print(score[1]*100)\n",
    "   # print(score[0])"
   ]
  },
  {
   "cell_type": "markdown",
   "metadata": {},
   "source": [
    "# From this point on it shows results for a single model but the previous code was to see the results for 10 models"
   ]
  },
  {
   "cell_type": "code",
   "execution_count": 39,
   "metadata": {},
   "outputs": [
    {
     "name": "stdout",
     "output_type": "stream",
     "text": [
      "dict_keys(['val_loss', 'val_accuracy', 'loss', 'accuracy'])\n"
     ]
    }
   ],
   "source": [
    "print(history.history.keys())"
   ]
  },
  {
   "cell_type": "code",
   "execution_count": 40,
   "metadata": {},
   "outputs": [
    {
     "name": "stdout",
     "output_type": "stream",
     "text": [
      "[0.5, 0.5085470080375671, 0.5, 0.6452991366386414, 0.5, 0.5192307829856873, 0.69017094373703, 0.5982906222343445, 0.5, 0.6623931527137756]\n",
      "\n",
      "[0.9190951, 0.96414876, 0.97891104, 0.98140335, 0.9879218, 0.99060583, 0.99482363, 0.9915644, 0.9869632, 0.9877301]\n"
     ]
    }
   ],
   "source": [
    "print(history.history['val_accuracy'])\n",
    "print()\n",
    "print(history.history['accuracy'])"
   ]
  },
  {
   "cell_type": "code",
   "execution_count": 33,
   "metadata": {},
   "outputs": [
    {
     "data": {
      "image/png": "[encoded data removed]",
      "text/plain": [
       "<Figure size 432x288 with 1 Axes>"
      ]
     },
     "metadata": {
      "needs_background": "light"
     },
     "output_type": "display_data"
    }
   ],
   "source": [
    "import matplotlib.pyplot as plt\n",
    "\n",
    "plt.plot(history.history['accuracy'])\n",
    "plt.plot(history.history['val_accuracy'])\n",
    "plt.title('model accuracy')\n",
    "plt.ylabel('accuracy')\n",
    "plt.xlabel('epoch')\n",
    "plt.legend(['train','test'],loc='upper left')\n",
    "plt.savefig('train_vs_test_accuracy_shuffled.png')\n",
    "plt.show()\n"
   ]
  },
  {
   "cell_type": "code",
   "execution_count": null,
   "metadata": {},
   "outputs": [],
   "source": [
    "## What does the above graph tell us about the model \n",
    "## -> What we see is that when it comes to training the model, it has high accuracy on the training set.\n",
    "# However when looking at the testing accuracy we can see the accuracy after every epoch is quite volatile. \n",
    "# What this tell us is that the model has clearly not been able to learn from training data. When looking at the graph it also shows overfitting \n",
    "## But this comes secondary to the concept of the model actually underfitting even though the the accuracy on the training data is high. "
   ]
  },
  {
   "cell_type": "code",
   "execution_count": 36,
   "metadata": {
    "scrolled": true
   },
   "outputs": [
    {
     "data": {
      "image/png": "[encoded data removed]",
      "text/plain": [
       "<Figure size 432x288 with 1 Axes>"
      ]
     },
     "metadata": {
      "needs_background": "light"
     },
     "output_type": "display_data"
    }
   ],
   "source": [
    "# summarize history for loss\n",
    "plt.plot(history.history['loss'])\n",
    "plt.plot(history.history['val_loss'])\n",
    "plt.title('model loss')\n",
    "plt.ylabel('loss')\n",
    "plt.xlabel('epoch')\n",
    "plt.legend(['train', 'test'], loc='upper left')\n",
    "plt.savefig('train_vs_test_loss_shuffled.png')\n",
    "plt.show()"
   ]
  },
  {
   "cell_type": "code",
   "execution_count": 35,
   "metadata": {},
   "outputs": [
    {
     "name": "stdout",
     "output_type": "stream",
     "text": [
      "468/468 [==============================] - 0s 948us/step\n",
      "Loss  10.586837837074555\n",
      "Test accuracy:  52.99145579338074\n"
     ]
    }
   ],
   "source": [
    "score = model.evaluate(X_test, y_test_ohe)\n",
    "print('Loss ' , score[0])\n",
    "print('Test accuracy: ', score[1]*100)"
   ]
  },
  {
   "cell_type": "code",
   "execution_count": 31,
   "metadata": {},
   "outputs": [
    {
     "data": {
      "text/plain": [
       "468"
      ]
     },
     "execution_count": 31,
     "metadata": {},
     "output_type": "execute_result"
    }
   ],
   "source": [
    "\n"
   ]
  },
  {
   "cell_type": "code",
   "execution_count": 25,
   "metadata": {},
   "outputs": [
    {
     "data": {
      "text/plain": [
       "array([1, 1, 1, 1, 1, 1, 1, 1, 1, 1, 1, 1, 1, 1, 1, 1, 1, 1, 1, 1, 1, 1,\n",
       "       1, 1, 1, 1, 1, 1, 1, 1, 1, 1, 1, 1, 1, 1, 1, 1, 1, 1, 1, 1, 1, 1,\n",
       "       1, 1, 1, 1, 1, 1, 1, 1, 1, 1, 1, 1, 1, 1, 1, 1, 1, 1, 1, 1, 1, 1,\n",
       "       1, 1, 1, 1, 1, 1, 1, 1, 1, 1, 1, 1, 1, 1, 1, 1, 1, 1, 1, 1, 1, 1,\n",
       "       1, 1, 1, 1, 1, 1, 1, 1, 1, 1, 1, 1, 1, 1, 1, 1, 1, 1, 1, 1, 1, 1,\n",
       "       1, 1, 0, 1, 1, 1, 1, 1, 1, 1, 1, 1, 1, 1, 1, 1, 1, 1, 1, 1, 1, 1,\n",
       "       1, 1, 1, 1, 1, 1, 1, 1, 1, 1, 1, 1, 1, 1, 1, 1, 1, 1, 1, 1, 1, 1,\n",
       "       1, 1, 1, 1, 1, 1, 1, 1, 1, 1, 1, 1, 1, 1, 1, 1, 1, 1, 1, 1, 1, 1,\n",
       "       1, 1, 1, 1, 1, 1, 1, 1, 1, 1, 1, 1, 1, 1, 1, 1, 1, 1, 1, 1, 1, 1,\n",
       "       1, 1, 1, 1, 1, 1, 1, 1, 1, 1, 1, 1, 1, 1, 1, 1, 1, 1, 1, 1, 1, 1,\n",
       "       1, 1, 1, 1, 1, 1, 1, 1, 1, 1, 1, 1, 1, 1])"
      ]
     },
     "execution_count": 25,
     "metadata": {},
     "output_type": "execute_result"
    }
   ],
   "source": [
    "y_pred = model.predict_classes(X_test)\n",
    "y_pred[234:]"
   ]
  },
  {
   "cell_type": "markdown",
   "metadata": {},
   "source": [
    "## Lets Visualise the output of Confusion Matrix"
   ]
  },
  {
   "cell_type": "code",
   "execution_count": 26,
   "metadata": {},
   "outputs": [
    {
     "name": "stdout",
     "output_type": "stream",
     "text": [
      "['TN', 'FP']\n",
      "['FN', 'TP']\n",
      "Confusion Matrix\n",
      "[[  1 233]\n",
      " [  0 234]]\n",
      "              precision    recall  f1-score   support\n",
      "\n",
      "         0.0       1.00      0.00      0.01       234\n",
      "         1.0       0.50      1.00      0.67       234\n",
      "\n",
      "    accuracy                           0.50       468\n",
      "   macro avg       0.75      0.50      0.34       468\n",
      "weighted avg       0.75      0.50      0.34       468\n",
      "\n"
     ]
    }
   ],
   "source": [
    "import matplotlib.pyplot as plt\n",
    "import pandas\n",
    "import numpy as np\n",
    "from sklearn.metrics import confusion_matrix\n",
    "\n",
    "matrix = [\"TN\",\"FP\"],[\"FN\",\"TP\"]\n",
    "print(matrix[0])\n",
    "print(matrix[1])\n",
    "\n",
    "##Lets Visualise the output\n",
    "conf=confusion_matrix(Y_test, y_pred)\n",
    "print(\"Confusion Matrix\")\n",
    "print(conf)\n",
    "# or we can use a heatmap from the seaborn library\n",
    "#import seaborn as sn\n",
    "#df_cm = pandas.DataFrame(conf, range(2), range(2))\n",
    "#sn.set(font_scale=1.4)#for label size\n",
    "#sn.heatmap(df_cm, cmap=\"YlGnBu\", annot=True, annot_kws={\"size\": 20},fmt=\"d\")# font size\n",
    "\n",
    "from sklearn.metrics import classification_report\n",
    "print(classification_report(Y_test,y_pred))"
   ]
  },
  {
   "cell_type": "code",
   "execution_count": null,
   "metadata": {},
   "outputs": [],
   "source": []
  },
  {
   "cell_type": "code",
   "execution_count": null,
   "metadata": {},
   "outputs": [],
   "source": []
  }
 ],
 "metadata": {
  "kernelspec": {
   "display_name": "Python 3",
   "language": "python",
   "name": "python3"
  },
  "language_info": {
   "codemirror_mode": {
    "name": "ipython",
    "version": 3
   },
   "file_extension": ".py",
   "mimetype": "text/x-python",
   "name": "python",
   "nbconvert_exporter": "python",
   "pygments_lexer": "ipython3",
   "version": "3.6.8"
  }
 },
 "nbformat": 4,
 "nbformat_minor": 2
}
