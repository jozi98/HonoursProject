{
 "cells": [
  {
   "cell_type": "markdown",
   "metadata": {},
   "source": [
    "# Python Implementation of Experiments for Thesis"
   ]
  },
  {
   "cell_type": "markdown",
   "metadata": {},
   "source": [
    "### Import Libraries"
   ]
  },
  {
   "cell_type": "code",
   "execution_count": 1,
   "metadata": {},
   "outputs": [
    {
     "name": "stderr",
     "output_type": "stream",
     "text": [
      "/usr/local/lib/python3.6/dist-packages/tensorboard/compat/tensorflow_stub/dtypes.py:541: FutureWarning: Passing (type, 1) or '1type' as a synonym of type is deprecated; in a future version of numpy, it will be understood as (type, (1,)) / '(1,)type'.\n",
      "  _np_qint8 = np.dtype([(\"qint8\", np.int8, 1)])\n",
      "/usr/local/lib/python3.6/dist-packages/tensorboard/compat/tensorflow_stub/dtypes.py:542: FutureWarning: Passing (type, 1) or '1type' as a synonym of type is deprecated; in a future version of numpy, it will be understood as (type, (1,)) / '(1,)type'.\n",
      "  _np_quint8 = np.dtype([(\"quint8\", np.uint8, 1)])\n",
      "/usr/local/lib/python3.6/dist-packages/tensorboard/compat/tensorflow_stub/dtypes.py:543: FutureWarning: Passing (type, 1) or '1type' as a synonym of type is deprecated; in a future version of numpy, it will be understood as (type, (1,)) / '(1,)type'.\n",
      "  _np_qint16 = np.dtype([(\"qint16\", np.int16, 1)])\n",
      "/usr/local/lib/python3.6/dist-packages/tensorboard/compat/tensorflow_stub/dtypes.py:544: FutureWarning: Passing (type, 1) or '1type' as a synonym of type is deprecated; in a future version of numpy, it will be understood as (type, (1,)) / '(1,)type'.\n",
      "  _np_quint16 = np.dtype([(\"quint16\", np.uint16, 1)])\n",
      "/usr/local/lib/python3.6/dist-packages/tensorboard/compat/tensorflow_stub/dtypes.py:545: FutureWarning: Passing (type, 1) or '1type' as a synonym of type is deprecated; in a future version of numpy, it will be understood as (type, (1,)) / '(1,)type'.\n",
      "  _np_qint32 = np.dtype([(\"qint32\", np.int32, 1)])\n",
      "/usr/local/lib/python3.6/dist-packages/tensorboard/compat/tensorflow_stub/dtypes.py:550: FutureWarning: Passing (type, 1) or '1type' as a synonym of type is deprecated; in a future version of numpy, it will be understood as (type, (1,)) / '(1,)type'.\n",
      "  np_resource = np.dtype([(\"resource\", np.ubyte, 1)])\n",
      "WARNING: Logging before flag parsing goes to stderr.\n",
      "W0422 22:44:26.859715 139907768375104 module_wrapper.py:136] From /usr/local/lib/python3.6/dist-packages/tensorflow_core/python/util/module_wrapper.py:163: The name tf.set_random_seed is deprecated. Please use tf.compat.v1.set_random_seed instead.\n",
      "\n",
      "Using TensorFlow backend.\n"
     ]
    }
   ],
   "source": [
    "#-------------------------Setting the randomness-----------#\n",
    "\n",
    "import os\n",
    "os.environ[\"CUDA_VISIBLE_DEVICES\"]=\"0\"  # specify which GPU(s) to be used\n",
    "\n",
    "\n",
    "import numpy as np\n",
    "np.random.seed(1) # for reproducability\n",
    "\n",
    "from tensorflow import set_random_seed\n",
    "set_random_seed(1) # for reproducability\n",
    "#------------------------------------------------------#\n",
    "import keras\n",
    "from keras.models import Sequential\n",
    "from keras import optimizers\n",
    "from keras.layers.normalization import BatchNormalization\n",
    "from keras.layers import Conv2D, MaxPooling2D, ZeroPadding2D, GlobalAveragePooling2D\n",
    "from keras.layers.core import Dense, Dropout, Flatten, Activation,Reshape\n",
    "\n",
    "from sklearn.utils import shuffle\n",
    "from sklearn.model_selection import train_test_split\n",
    "\n"
   ]
  },
  {
   "cell_type": "markdown",
   "metadata": {},
   "source": [
    "## Load in training and testing dataset"
   ]
  },
  {
   "cell_type": "code",
   "execution_count": 2,
   "metadata": {},
   "outputs": [],
   "source": [
    "from numpy import load\n",
    "train_data = load('data/training_data.npy')\n",
    "test_data = load('data/testing_data.npy')\n"
   ]
  },
  {
   "cell_type": "markdown",
   "metadata": {},
   "source": [
    " ## Function to choose balancing of training data"
   ]
  },
  {
   "cell_type": "code",
   "execution_count": 3,
   "metadata": {},
   "outputs": [],
   "source": [
    "def balanced(option):\n",
    "    if(option==\"yes\"):\n",
    "        training_data = np.concatenate((train_data[0:1341],train_data[3875:]),axis=0)\n",
    "        testing_data = np.concatenate((test_data[0:234],test_data[390:]))\n",
    "        return training_data,testing_data\n",
    "    else:\n",
    "        training_data = train_data\n",
    "        testing_data = test_data\n",
    "        return training_data,testing_data\n"
   ]
  },
  {
   "cell_type": "code",
   "execution_count": 4,
   "metadata": {},
   "outputs": [
    {
     "name": "stdout",
     "output_type": "stream",
     "text": [
      "(5216, 62501)\n",
      "(624, 62501)\n"
     ]
    }
   ],
   "source": [
    "training_data,test_data=balanced(\"no\")\n",
    "print(training_data.shape)\n",
    "print(test_data.shape)\n",
    "\n"
   ]
  },
  {
   "cell_type": "code",
   "execution_count": 5,
   "metadata": {},
   "outputs": [],
   "source": [
    "X_train,X_val,Y_train,Y_val = train_test_split(training_data[0:,1:],training_data[0:,0:1],test_size=0.1,random_state = 1,shuffle=True,stratify=training_data[0:,0:1])"
   ]
  },
  {
   "cell_type": "code",
   "execution_count": 6,
   "metadata": {},
   "outputs": [
    {
     "data": {
      "text/plain": [
       "(4694, 62500)"
      ]
     },
     "execution_count": 6,
     "metadata": {},
     "output_type": "execute_result"
    }
   ],
   "source": [
    "X_train.shape"
   ]
  },
  {
   "cell_type": "code",
   "execution_count": 7,
   "metadata": {},
   "outputs": [
    {
     "data": {
      "text/plain": [
       "array([[1.],\n",
       "       [1.],\n",
       "       [1.],\n",
       "       [0.],\n",
       "       [1.],\n",
       "       [1.],\n",
       "       [1.],\n",
       "       [1.],\n",
       "       [1.],\n",
       "       [0.]], dtype=float32)"
      ]
     },
     "execution_count": 7,
     "metadata": {},
     "output_type": "execute_result"
    }
   ],
   "source": [
    "Y_train[0:10,0:1]"
   ]
  },
  {
   "cell_type": "code",
   "execution_count": 8,
   "metadata": {},
   "outputs": [],
   "source": [
    "#X_train = np.concatenate((X_train,augmented_set[0:,1:]),axis=0)"
   ]
  },
  {
   "cell_type": "code",
   "execution_count": null,
   "metadata": {},
   "outputs": [],
   "source": []
  },
  {
   "cell_type": "code",
   "execution_count": 9,
   "metadata": {},
   "outputs": [],
   "source": [
    "#Y_train = np.concatenate((Y_train,augmented_set[0:,0:1]),axis=0)"
   ]
  },
  {
   "cell_type": "code",
   "execution_count": 10,
   "metadata": {},
   "outputs": [],
   "source": [
    "#Y_train.shape"
   ]
  },
  {
   "cell_type": "code",
   "execution_count": 11,
   "metadata": {},
   "outputs": [
    {
     "name": "stdout",
     "output_type": "stream",
     "text": [
      "All (class distribution): [25.70935583 74.29064417]\n",
      "Training (class distribution): [25.71367703 74.28632297]\n",
      "Validation (class distribution): [25.67049808 74.32950192]\n"
     ]
    }
   ],
   "source": [
    "print('All (class distribution):', np.bincount(list(map(float, training_data[0:,0:1]))) / float(len(training_data)) * 100.0)\n",
    "print('Training (class distribution):', np.bincount(list(map(float,Y_train))) / float(len(Y_train)) * 100.0)\n",
    "print('Validation (class distribution):', np.bincount(list(map(float,Y_val))) / float(len(Y_val)) * 100.0)"
   ]
  },
  {
   "cell_type": "code",
   "execution_count": 12,
   "metadata": {},
   "outputs": [],
   "source": [
    "X_test = test_data[0:,1:]\n",
    "Y_test = test_data[0:,0:1]"
   ]
  },
  {
   "cell_type": "code",
   "execution_count": 13,
   "metadata": {},
   "outputs": [],
   "source": [
    "y_train_ohe = keras.utils.to_categorical(Y_train, 2)\n",
    "y_test_ohe = keras.utils.to_categorical(Y_test, 2)\n",
    "y_val_ohe = keras.utils.to_categorical(Y_val,2)"
   ]
  },
  {
   "cell_type": "code",
   "execution_count": 14,
   "metadata": {},
   "outputs": [
    {
     "name": "stdout",
     "output_type": "stream",
     "text": [
      "(4694, 250, 250, 1)\n",
      "(624, 250, 250, 1)\n",
      "(522, 250, 250, 1)\n"
     ]
    }
   ],
   "source": [
    "X_train = X_train.reshape(X_train.shape[0],250,250,1)\n",
    "print(X_train.shape)\n",
    "X_test = X_test.reshape(X_test.shape[0],250,250,1)\n",
    "print(X_test.shape)\n",
    "X_val = X_val.reshape(X_val.shape[0],250,250,1)\n",
    "print(X_val.shape)"
   ]
  },
  {
   "cell_type": "markdown",
   "metadata": {},
   "source": [
    "## Create 2D CNN \n",
    "\n",
    "## 1. Define Sequential Model\n",
    "## 2. Add 2D CNN with 32 filters,3x3 filters\n",
    "## 3. Apply Relu\n",
    "## Repeat x2\n",
    "## 4. Apply MaxPooling(2,2)\n",
    "## 5. Send through Fully Connected Layer\n"
   ]
  },
  {
   "cell_type": "code",
   "execution_count": 15,
   "metadata": {},
   "outputs": [],
   "source": [
    "def create_model():\n",
    "    model_CNN = Sequential()\n",
    "    \n",
    "    model_CNN.add(Conv2D(32,(3,3),input_shape=(250,250,1)))\n",
    "    model_CNN.add(Activation('relu')) # Remember, Batch Norm is meant to go before activation. However, for purposes of recreating experriment 1 keep Batch Norm after activation\n",
    "    \n",
    "    model_CNN.add(Conv2D(32, (3, 3)))\n",
    "    model_CNN.add(Activation('relu'))\n",
    "\n",
    "    model_CNN.add(MaxPooling2D(pool_size=(2,2)))\n",
    "    \n",
    "    model_CNN.add(Flatten())\n",
    "\n",
    "    # Fully connected layer\n",
    "    model_CNN.add(Dense(128))\n",
    "    model_CNN.add(Activation('relu'))\n",
    "\n",
    "    #model_CNN.add(Dropout(0.2))\n",
    "    \n",
    "\n",
    "    model_CNN.add(Dense(2))\n",
    "    model_CNN.add(Activation('softmax'))\n",
    "    \n",
    "    return model_CNN"
   ]
  },
  {
   "cell_type": "markdown",
   "metadata": {},
   "source": [
    "# Setup for the experiment below\n",
    "\n",
    "## 1. Model is ran with the above architeture \n",
    "## 2. Trained on Imbalanced Set\n",
    "## 3. Tested on Imbalanced Set\n",
    "## 4. Adam Optimiser 0.01"
   ]
  },
  {
   "cell_type": "markdown",
   "metadata": {},
   "source": [
    "# This is a test to see if running 10 experiments for the same setup of model produces the same results "
   ]
  },
  {
   "cell_type": "code",
   "execution_count": 16,
   "metadata": {
    "scrolled": true
   },
   "outputs": [
    {
     "name": "stderr",
     "output_type": "stream",
     "text": [
      "W0422 22:44:46.298394 139907768375104 deprecation.py:506] From /usr/local/lib/python3.6/dist-packages/tensorflow_core/python/ops/resource_variable_ops.py:1633: calling BaseResourceVariable.__init__ (from tensorflow.python.ops.resource_variable_ops) with constraint is deprecated and will be removed in a future version.\n",
      "Instructions for updating:\n",
      "If using Keras pass *_constraint arguments to layers.\n",
      "W0422 22:44:46.339965 139907768375104 module_wrapper.py:136] From /usr/local/lib/python3.6/dist-packages/tensorflow_core/python/util/module_wrapper.py:163: The name tf.nn.max_pool is deprecated. Please use tf.nn.max_pool2d instead.\n",
      "\n",
      "W0422 22:44:46.636234 139907768375104 deprecation.py:323] From /usr/local/lib/python3.6/dist-packages/keras/optimizers.py:550: BaseResourceVariable.constraint (from tensorflow.python.ops.resource_variable_ops) is deprecated and will be removed in a future version.\n",
      "Instructions for updating:\n",
      "Apply a constraint manually following the optimizer update step.\n"
     ]
    },
    {
     "name": "stdout",
     "output_type": "stream",
     "text": [
      "Train on 4694 samples, validate on 522 samples\n",
      "Epoch 1/10\n",
      "4694/4694 [==============================] - 9s 2ms/step - loss: 9.0488 - accuracy: 0.7812 - val_loss: 0.3853 - val_accuracy: 0.8563\n",
      "Epoch 2/10\n",
      "4694/4694 [==============================] - 7s 2ms/step - loss: 0.2164 - accuracy: 0.9156 - val_loss: 0.1070 - val_accuracy: 0.9598\n",
      "Epoch 3/10\n",
      "4694/4694 [==============================] - 7s 2ms/step - loss: 0.1068 - accuracy: 0.9589 - val_loss: 0.1097 - val_accuracy: 0.9598\n",
      "Epoch 4/10\n",
      "4694/4694 [==============================] - 8s 2ms/step - loss: 0.0716 - accuracy: 0.9710 - val_loss: 0.0857 - val_accuracy: 0.9732\n",
      "Epoch 5/10\n",
      "4694/4694 [==============================] - 8s 2ms/step - loss: 0.0634 - accuracy: 0.9770 - val_loss: 0.1454 - val_accuracy: 0.9425\n",
      "Epoch 6/10\n",
      "4694/4694 [==============================] - 8s 2ms/step - loss: 0.0558 - accuracy: 0.9787 - val_loss: 0.0991 - val_accuracy: 0.9636\n",
      "Epoch 7/10\n",
      "4694/4694 [==============================] - 8s 2ms/step - loss: 0.0342 - accuracy: 0.9881 - val_loss: 0.1256 - val_accuracy: 0.9598\n",
      "Epoch 8/10\n",
      "4694/4694 [==============================] - 8s 2ms/step - loss: 0.0296 - accuracy: 0.9898 - val_loss: 0.1359 - val_accuracy: 0.9713\n",
      "Epoch 9/10\n",
      "4694/4694 [==============================] - 8s 2ms/step - loss: 0.0209 - accuracy: 0.9930 - val_loss: 0.1441 - val_accuracy: 0.9674\n",
      "Epoch 10/10\n",
      "4694/4694 [==============================] - 8s 2ms/step - loss: 0.0163 - accuracy: 0.9942 - val_loss: 0.1239 - val_accuracy: 0.9617\n",
      "624/624 [==============================] - 1s 946us/step\n",
      "Train on 4694 samples, validate on 522 samples\n",
      "Epoch 1/10\n",
      "4694/4694 [==============================] - 8s 2ms/step - loss: 9.9050 - accuracy: 0.7209 - val_loss: 0.4853 - val_accuracy: 0.8065\n",
      "Epoch 2/10\n",
      "4694/4694 [==============================] - 8s 2ms/step - loss: 0.4965 - accuracy: 0.7959 - val_loss: 0.4339 - val_accuracy: 0.8180\n",
      "Epoch 3/10\n",
      "4694/4694 [==============================] - 7s 2ms/step - loss: 0.3500 - accuracy: 0.8402 - val_loss: 0.2860 - val_accuracy: 0.8793\n",
      "Epoch 4/10\n",
      "4694/4694 [==============================] - 8s 2ms/step - loss: 0.2299 - accuracy: 0.9048 - val_loss: 0.3331 - val_accuracy: 0.8946\n",
      "Epoch 5/10\n",
      "4694/4694 [==============================] - 8s 2ms/step - loss: 0.1883 - accuracy: 0.9288 - val_loss: 0.3045 - val_accuracy: 0.8889\n",
      "Epoch 6/10\n",
      "4694/4694 [==============================] - 7s 2ms/step - loss: 0.1591 - accuracy: 0.9372 - val_loss: 0.2741 - val_accuracy: 0.9042\n",
      "Epoch 7/10\n",
      "4694/4694 [==============================] - 8s 2ms/step - loss: 0.0761 - accuracy: 0.9740 - val_loss: 0.2953 - val_accuracy: 0.9215\n",
      "Epoch 8/10\n",
      "4694/4694 [==============================] - 7s 2ms/step - loss: 0.0496 - accuracy: 0.9838 - val_loss: 0.2862 - val_accuracy: 0.9310\n",
      "Epoch 9/10\n",
      "4694/4694 [==============================] - 7s 2ms/step - loss: 0.0239 - accuracy: 0.9934 - val_loss: 0.3506 - val_accuracy: 0.8966\n",
      "Epoch 10/10\n",
      "4694/4694 [==============================] - 8s 2ms/step - loss: 0.0281 - accuracy: 0.9887 - val_loss: 0.4844 - val_accuracy: 0.9425\n",
      "624/624 [==============================] - 0s 712us/step\n",
      "Train on 4694 samples, validate on 522 samples\n",
      "Epoch 1/10\n",
      "4694/4694 [==============================] - 8s 2ms/step - loss: 9.9125 - accuracy: 0.7441 - val_loss: 0.3865 - val_accuracy: 0.8180\n",
      "Epoch 2/10\n",
      "4694/4694 [==============================] - 8s 2ms/step - loss: 0.7624 - accuracy: 0.7716 - val_loss: 0.4170 - val_accuracy: 0.8218\n",
      "Epoch 3/10\n",
      "4694/4694 [==============================] - 7s 2ms/step - loss: 0.3728 - accuracy: 0.8353 - val_loss: 0.3762 - val_accuracy: 0.8506\n",
      "Epoch 4/10\n",
      "4694/4694 [==============================] - 7s 2ms/step - loss: 0.2471 - accuracy: 0.9024 - val_loss: 0.3423 - val_accuracy: 0.8946\n",
      "Epoch 5/10\n",
      "4694/4694 [==============================] - 7s 2ms/step - loss: 0.1453 - accuracy: 0.9442 - val_loss: 0.2398 - val_accuracy: 0.9272\n",
      "Epoch 6/10\n",
      "4694/4694 [==============================] - 7s 2ms/step - loss: 0.0793 - accuracy: 0.9738 - val_loss: 0.2473 - val_accuracy: 0.9138\n",
      "Epoch 7/10\n",
      "4694/4694 [==============================] - 8s 2ms/step - loss: 0.0372 - accuracy: 0.9885 - val_loss: 0.3856 - val_accuracy: 0.9349\n",
      "Epoch 8/10\n",
      "4694/4694 [==============================] - 8s 2ms/step - loss: 0.0223 - accuracy: 0.9932 - val_loss: 0.3447 - val_accuracy: 0.8946\n",
      "Epoch 9/10\n",
      "4694/4694 [==============================] - 7s 2ms/step - loss: 0.0540 - accuracy: 0.9855 - val_loss: 0.3570 - val_accuracy: 0.9291\n",
      "Epoch 10/10\n",
      "4694/4694 [==============================] - 7s 2ms/step - loss: 0.0066 - accuracy: 0.9983 - val_loss: 0.3796 - val_accuracy: 0.9464\n",
      "624/624 [==============================] - 1s 811us/step\n",
      "Train on 4694 samples, validate on 522 samples\n",
      "Epoch 1/10\n",
      "4694/4694 [==============================] - 8s 2ms/step - loss: 9.8848 - accuracy: 0.7403 - val_loss: 2.0366 - val_accuracy: 0.7433\n",
      "Epoch 2/10\n",
      "4694/4694 [==============================] - 8s 2ms/step - loss: 0.4651 - accuracy: 0.8136 - val_loss: 0.3386 - val_accuracy: 0.8602\n",
      "Epoch 3/10\n",
      "4694/4694 [==============================] - 7s 2ms/step - loss: 0.2512 - accuracy: 0.8963 - val_loss: 0.3043 - val_accuracy: 0.8544\n",
      "Epoch 4/10\n",
      "4694/4694 [==============================] - 7s 2ms/step - loss: 0.1172 - accuracy: 0.9578 - val_loss: 0.1622 - val_accuracy: 0.9425\n",
      "Epoch 5/10\n",
      "4694/4694 [==============================] - 7s 2ms/step - loss: 0.0696 - accuracy: 0.9729 - val_loss: 0.2420 - val_accuracy: 0.9272\n",
      "Epoch 6/10\n",
      "4694/4694 [==============================] - 7s 2ms/step - loss: 0.0242 - accuracy: 0.9923 - val_loss: 0.2109 - val_accuracy: 0.9387\n",
      "Epoch 7/10\n",
      "4694/4694 [==============================] - 7s 2ms/step - loss: 0.0084 - accuracy: 0.9985 - val_loss: 0.2517 - val_accuracy: 0.9425\n",
      "Epoch 8/10\n",
      "4694/4694 [==============================] - 7s 2ms/step - loss: 0.0019 - accuracy: 1.0000 - val_loss: 0.2488 - val_accuracy: 0.9521\n",
      "Epoch 9/10\n",
      "4694/4694 [==============================] - 7s 2ms/step - loss: 7.4741e-04 - accuracy: 1.0000 - val_loss: 0.2661 - val_accuracy: 0.9540\n",
      "Epoch 10/10\n",
      "4694/4694 [==============================] - 7s 2ms/step - loss: 5.0674e-04 - accuracy: 1.0000 - val_loss: 0.2928 - val_accuracy: 0.9521\n",
      "624/624 [==============================] - 0s 771us/step\n",
      "Train on 4694 samples, validate on 522 samples\n",
      "Epoch 1/10\n",
      "4694/4694 [==============================] - 8s 2ms/step - loss: 5.2029 - accuracy: 0.7657 - val_loss: 0.3657 - val_accuracy: 0.9042\n",
      "Epoch 2/10\n",
      "4694/4694 [==============================] - 8s 2ms/step - loss: 0.2960 - accuracy: 0.8749 - val_loss: 0.2664 - val_accuracy: 0.8640\n",
      "Epoch 3/10\n",
      "4694/4694 [==============================] - 8s 2ms/step - loss: 0.2005 - accuracy: 0.9154 - val_loss: 0.3039 - val_accuracy: 0.8985\n",
      "Epoch 4/10\n",
      "4694/4694 [==============================] - 8s 2ms/step - loss: 0.2326 - accuracy: 0.9086 - val_loss: 0.3172 - val_accuracy: 0.8812\n",
      "Epoch 5/10\n",
      "4694/4694 [==============================] - 7s 2ms/step - loss: 0.3248 - accuracy: 0.8749 - val_loss: 0.3325 - val_accuracy: 0.8372\n",
      "Epoch 6/10\n",
      "4694/4694 [==============================] - 8s 2ms/step - loss: 0.2326 - accuracy: 0.8920 - val_loss: 0.2874 - val_accuracy: 0.9042\n",
      "Epoch 7/10\n",
      "4694/4694 [==============================] - 8s 2ms/step - loss: 0.1281 - accuracy: 0.9482 - val_loss: 0.3355 - val_accuracy: 0.8889\n",
      "Epoch 8/10\n",
      "4694/4694 [==============================] - 7s 2ms/step - loss: 0.0683 - accuracy: 0.9736 - val_loss: 0.3877 - val_accuracy: 0.8946\n",
      "Epoch 9/10\n",
      "4694/4694 [==============================] - 7s 2ms/step - loss: 0.0375 - accuracy: 0.9889 - val_loss: 0.4414 - val_accuracy: 0.9119\n",
      "Epoch 10/10\n",
      "4694/4694 [==============================] - 8s 2ms/step - loss: 0.0496 - accuracy: 0.9830 - val_loss: 0.5508 - val_accuracy: 0.8985\n",
      "624/624 [==============================] - 0s 793us/step\n"
     ]
    }
   ],
   "source": [
    "history_array = [] ## Used to get callbacks for 10 models\n",
    "accuracy = [] ## Compute the accuracy from 10 models\n",
    "model_array = [] # Save 10 models to array to be used for computing the test and returning predictions which are for printing confusion matrix\n",
    "for i in range(0,5):\n",
    "    model = create_model()  \n",
    "    opt = optimizers.Adam(lr=0.01)\n",
    "    model.compile(loss='categorical_crossentropy',optimizer=opt, metrics=['accuracy'])\n",
    "    np.random.seed(1) # for reproducability\n",
    "    #shuffle= false needs to be used if u want results to be the same every time\n",
    "    history = model.fit(X_train, y_train_ohe,shuffle=True,batch_size=64,epochs=10,validation_data=(X_val, y_val_ohe))# model\n",
    "    model_array.append(model)\n",
    "    history_array.append(history)\n",
    "    score = model.evaluate(X_test, y_test_ohe)\n",
    "    accuracy.append(score)"
   ]
  },
  {
   "cell_type": "markdown",
   "metadata": {},
   "source": [
    "## Print out the accuracys for 5 Models"
   ]
  },
  {
   "cell_type": "code",
   "execution_count": 30,
   "metadata": {},
   "outputs": [
    {
     "name": "stdout",
     "output_type": "stream",
     "text": [
      "[[3.9601734856700297, 0.7259615659713745], [3.7774686738682046, 0.7708333134651184], [4.881735115976205, 0.7403846383094788], [3.1666258420324223, 0.7323718070983887], [5.006833717004972, 0.7211538553237915]]\n"
     ]
    }
   ],
   "source": [
    "#print out accuracies for 5 models\n",
    "print(accuracy)"
   ]
  },
  {
   "cell_type": "code",
   "execution_count": 21,
   "metadata": {},
   "outputs": [],
   "source": [
    "## Lets output the loss and accuracy for the model"
   ]
  },
  {
   "cell_type": "markdown",
   "metadata": {},
   "source": [
    "# Plot the Model accuracy on the Training and Validation"
   ]
  },
  {
   "cell_type": "code",
   "execution_count": 18,
   "metadata": {
    "scrolled": false
   },
   "outputs": [
    {
     "name": "stdout",
     "output_type": "stream",
     "text": [
      "[0.78121006, 0.91563696, 0.9588837, 0.97102684, 0.9769919, 0.9786962, 0.9880699, 0.98977417, 0.99296975, 0.994248]\n",
      "[0.8563218116760254, 0.959770143032074, 0.959770143032074, 0.9731800556182861, 0.9425287246704102, 0.9636015295982361, 0.959770143032074, 0.9712643623352051, 0.967432975769043, 0.961685836315155]\n"
     ]
    },
    {
     "data": {
      "image/png": "[encoded data removed]",
      "text/plain": [
       "<Figure size 432x288 with 1 Axes>"
      ]
     },
     "metadata": {
      "needs_background": "light"
     },
     "output_type": "display_data"
    },
    {
     "name": "stdout",
     "output_type": "stream",
     "text": [
      "[0.7209203, 0.79590964, 0.8402216, 0.90477204, 0.92884535, 0.9371538, 0.9740094, 0.9838091, 0.9933958, 0.988709]\n",
      "[0.8065134286880493, 0.8180076479911804, 0.8793103694915771, 0.8946360349655151, 0.8888888955116272, 0.9042145609855652, 0.9214559197425842, 0.931034505367279, 0.8965517282485962, 0.9425287246704102]\n"
     ]
    },
    {
     "data": {
      "image/png": "[encoded data removed]",
      "text/plain": [
       "<Figure size 432x288 with 1 Axes>"
      ]
     },
     "metadata": {
      "needs_background": "light"
     },
     "output_type": "display_data"
    },
    {
     "name": "stdout",
     "output_type": "stream",
     "text": [
      "[0.74414146, 0.7716234, 0.83532166, 0.9024286, 0.94418406, 0.9737963, 0.98849595, 0.9931828, 0.98551345, 0.9982957]\n",
      "[0.8180076479911804, 0.8218390941619873, 0.8505747318267822, 0.8946360349655151, 0.9272030591964722, 0.9137930870056152, 0.9348658919334412, 0.8946360349655151, 0.9291187524795532, 0.946360170841217]\n"
     ]
    },
    {
     "data": {
      "image/png": "[encoded data removed]",
      "text/plain": [
       "<Figure size 432x288 with 1 Axes>"
      ]
     },
     "metadata": {
      "needs_background": "light"
     },
     "output_type": "display_data"
    },
    {
     "name": "stdout",
     "output_type": "stream",
     "text": [
      "[0.7403068, 0.81359184, 0.89625055, 0.9578185, 0.9729442, 0.9923306, 0.99850875, 1.0, 1.0, 1.0]\n",
      "[0.7432950139045715, 0.8601532578468323, 0.8544061183929443, 0.9425287246704102, 0.9272030591964722, 0.938697338104248, 0.9425287246704102, 0.9521072506904602, 0.954023003578186, 0.9521072506904602]\n"
     ]
    },
    {
     "data": {
      "image/png": "[encoded data removed]",
      "text/plain": [
       "<Figure size 432x288 with 1 Axes>"
      ]
     },
     "metadata": {
      "needs_background": "light"
     },
     "output_type": "display_data"
    },
    {
     "name": "stdout",
     "output_type": "stream",
     "text": [
      "[0.76565826, 0.8749467, 0.9154239, 0.9086067, 0.8749467, 0.89198977, 0.94823176, 0.9735833, 0.988922, 0.98295695]\n",
      "[0.9042145609855652, 0.8639847040176392, 0.8984674215316772, 0.8812260627746582, 0.8371647596359253, 0.9042145609855652, 0.8888888955116272, 0.8946360349655151, 0.9118773937225342, 0.8984674215316772]\n"
     ]
    },
    {
     "data": {
      "image/png": "[encoded data removed]",
      "text/plain": [
       "<Figure size 432x288 with 1 Axes>"
      ]
     },
     "metadata": {
      "needs_background": "light"
     },
     "output_type": "display_data"
    }
   ],
   "source": [
    "\n",
    "import matplotlib.pyplot as plt\n",
    "count = 0; \n",
    "\n",
    "\n",
    "for i in history_array:\n",
    "    print(i.history['accuracy'])\n",
    "    plt.plot(i.history['accuracy'])\n",
    "    print(i.history['val_accuracy'])\n",
    "    plt.plot(i.history['val_accuracy'])\n",
    "    plt.title('model accuracy')\n",
    "    plt.ylabel('accuracy')\n",
    "    plt.xlabel('epoch')\n",
    "    plt.legend(['train','validation'],loc='upper left')\n",
    "    name = 'train_vs_validation_accuracy' + str(count) + '.png'\n",
    "    #plt.savefig('experiment2/'+name)\n",
    "    plt.show()\n",
    "\n"
   ]
  },
  {
   "cell_type": "markdown",
   "metadata": {},
   "source": [
    "# Plot the Model Loss on the Training and Validation"
   ]
  },
  {
   "cell_type": "code",
   "execution_count": 19,
   "metadata": {
    "scrolled": false
   },
   "outputs": [
    {
     "name": "stdout",
     "output_type": "stream",
     "text": [
      "[9.048788983865297, 0.21636926523410974, 0.10677453625072658, 0.07157839887386999, 0.06344399484240303, 0.05583578399110714, 0.034216602491714855, 0.029589721449687727, 0.020948193486800562, 0.01627337675659493]\n",
      "[0.3853359639187882, 0.10696391404474376, 0.10966650563581236, 0.08569841303994657, 0.14537896227334193, 0.09914509635204556, 0.12564993367826574, 0.13586765345921062, 0.14410653444884838, 0.12394100002823148]\n"
     ]
    },
    {
     "data": {
      "image/png": "[encoded data removed]",
      "text/plain": [
       "<Figure size 432x288 with 1 Axes>"
      ]
     },
     "metadata": {
      "needs_background": "light"
     },
     "output_type": "display_data"
    },
    {
     "name": "stdout",
     "output_type": "stream",
     "text": [
      "[9.905031820180623, 0.49648577442157, 0.34997942678004973, 0.22992715906172445, 0.18833196259682666, 0.159113524601492, 0.07612596507393328, 0.04955640507280242, 0.023859052547433424, 0.02814911919086259]\n",
      "[0.4852918110131304, 0.4339339777655985, 0.286044597682825, 0.33311801720624684, 0.3044913759405129, 0.2741235108953326, 0.29532986531084066, 0.2862334540292221, 0.35058008379863137, 0.48439441330131444]\n"
     ]
    },
    {
     "data": {
      "image/png": "[encoded data removed]",
      "text/plain": [
       "<Figure size 432x288 with 1 Axes>"
      ]
     },
     "metadata": {
      "needs_background": "light"
     },
     "output_type": "display_data"
    },
    {
     "name": "stdout",
     "output_type": "stream",
     "text": [
      "[9.912514237581439, 0.7624475164747665, 0.37276182847171324, 0.24711778843763488, 0.14528056895689706, 0.07934351220034923, 0.03717303843674749, 0.022265174230707483, 0.054034946548455275, 0.006551081538560487]\n",
      "[0.38650164567647766, 0.41701078631868765, 0.37619108375575805, 0.3423148145849221, 0.2398347534324931, 0.2472917718734321, 0.38564833416335886, 0.34473118337292324, 0.3569616529219909, 0.3796229476672936]\n"
     ]
    },
    {
     "data": {
      "image/png": "[encoded data removed]",
      "text/plain": [
       "<Figure size 432x288 with 1 Axes>"
      ]
     },
     "metadata": {
      "needs_background": "light"
     },
     "output_type": "display_data"
    },
    {
     "name": "stdout",
     "output_type": "stream",
     "text": [
      "[9.884768539367455, 0.46508894687416097, 0.25119763128951506, 0.11724727636684902, 0.06958117549679459, 0.02417365660649674, 0.008355994952479906, 0.001938221243939878, 0.0007474124996465607, 0.0005067429190856868]\n",
      "[2.036598226576473, 0.3385859466946445, 0.3042519777670674, 0.16219902392548163, 0.24195565363228091, 0.2109497607439414, 0.2516847013056963, 0.24883733261590715, 0.2660673249270267, 0.2928064550019772]\n"
     ]
    },
    {
     "data": {
      "image/png": "[encoded data removed]",
      "text/plain": [
       "<Figure size 432x288 with 1 Axes>"
      ]
     },
     "metadata": {
      "needs_background": "light"
     },
     "output_type": "display_data"
    },
    {
     "name": "stdout",
     "output_type": "stream",
     "text": [
      "[5.202947077189398, 0.2959537745207789, 0.20047790088270592, 0.23264440575405848, 0.32475462196530513, 0.23259336689608526, 0.1281030941000633, 0.06826250394786425, 0.037543683446361234, 0.049572150332081]\n",
      "[0.36573818006277997, 0.26637720353758654, 0.3038519954316004, 0.317157302094602, 0.3325207284241344, 0.28741033329589155, 0.3354696350536127, 0.3876895960491736, 0.4413835753426241, 0.5508265406235882]\n"
     ]
    },
    {
     "data": {
      "image/png": "[encoded data removed]",
      "text/plain": [
       "<Figure size 432x288 with 1 Axes>"
      ]
     },
     "metadata": {
      "needs_background": "light"
     },
     "output_type": "display_data"
    }
   ],
   "source": [
    "# summarize history for loss\n",
    "\n",
    "count = 0 \n",
    "for i in history_array:\n",
    "    print(i.history['loss'])\n",
    "    plt.plot(i.history['loss'])\n",
    "    plt.plot(i.history['val_loss'])\n",
    "    print(i.history['val_loss'])\n",
    "    plt.title('model loss')\n",
    "    plt.ylabel('loss')\n",
    "    plt.xlabel('epoch')\n",
    "    plt.legend(['train', 'validation'], loc='upper right')\n",
    "    name = 'train_vs_test_loss_shuffled_btch32_' + str(count) + '.png'\n",
    "    #plt.savefig(name)\n",
    "    count = count +1\n",
    "    plt.show()    \n",
    "    \n",
    "  "
   ]
  },
  {
   "cell_type": "code",
   "execution_count": null,
   "metadata": {},
   "outputs": [],
   "source": [
    "# score = model_array[1].evaluate(X_test, y_test_ohe)\n",
    "# print('Loss ' , score[0])\n",
    "# print('Test accuracy: ', score[1]*100)"
   ]
  },
  {
   "cell_type": "code",
   "execution_count": 20,
   "metadata": {},
   "outputs": [],
   "source": [
    "from sklearn.metrics import confusion_matrix\n",
    "def classification_report():\n",
    "    \n",
    "    for i in model_array:\n",
    "        y_pred = i.predict_classes(X_test)\n",
    "        matrix = [\"TN\",\"FP\"],[\"FN\",\"TP\"]\n",
    "        print(matrix[0])\n",
    "        print(matrix[1])\n",
    "\n",
    "        ##Lets Visualise the output\n",
    "        conf=confusion_matrix(Y_test, y_pred)\n",
    "        print(\"Confusion Matrix\")\n",
    "        print(conf)\n",
    "        # or we can use a heatmap from the seaborn library\n",
    "        #import seaborn as sn\n",
    "        #df_cm = pandas.DataFrame(conf, range(2), range(2))\n",
    "        #sn.set(font_scale=1.4)#for label size\n",
    "        #sn.heatmap(df_cm, cmap=\"YlGnBu\", annot=True, annot_kws={\"size\": 20},fmt=\"d\")# font size\n",
    "\n",
    "        from sklearn.metrics import classification_report\n",
    "        print(classification_report(Y_test,y_pred));\n",
    "        \n",
    "\n"
   ]
  },
  {
   "cell_type": "code",
   "execution_count": 21,
   "metadata": {},
   "outputs": [
    {
     "data": {
      "text/plain": [
       "[[2.0395820606222865, 0.7483974099159241],\n",
       " [4.27848080682769, 0.7275640964508057],\n",
       " [4.133310873206192, 0.7131410241127014],\n",
       " [4.008118573389836, 0.7387820482254028],\n",
       " [3.7038744365145013, 0.7339743375778198]]"
      ]
     },
     "execution_count": 21,
     "metadata": {},
     "output_type": "execute_result"
    }
   ],
   "source": [
    "accuracy"
   ]
  },
  {
   "cell_type": "code",
   "execution_count": 22,
   "metadata": {
    "scrolled": false
   },
   "outputs": [
    {
     "name": "stdout",
     "output_type": "stream",
     "text": [
      "['TN', 'FP']\n",
      "['FN', 'TP']\n",
      "Confusion Matrix\n",
      "[[ 80 154]\n",
      " [  3 387]]\n",
      "              precision    recall  f1-score   support\n",
      "\n",
      "         0.0       0.96      0.34      0.50       234\n",
      "         1.0       0.72      0.99      0.83       390\n",
      "\n",
      "    accuracy                           0.75       624\n",
      "   macro avg       0.84      0.67      0.67       624\n",
      "weighted avg       0.81      0.75      0.71       624\n",
      "\n",
      "['TN', 'FP']\n",
      "['FN', 'TP']\n",
      "Confusion Matrix\n",
      "[[ 78 156]\n",
      " [ 14 376]]\n",
      "              precision    recall  f1-score   support\n",
      "\n",
      "         0.0       0.85      0.33      0.48       234\n",
      "         1.0       0.71      0.96      0.82       390\n",
      "\n",
      "    accuracy                           0.73       624\n",
      "   macro avg       0.78      0.65      0.65       624\n",
      "weighted avg       0.76      0.73      0.69       624\n",
      "\n",
      "['TN', 'FP']\n",
      "['FN', 'TP']\n",
      "Confusion Matrix\n",
      "[[ 68 166]\n",
      " [ 13 377]]\n",
      "              precision    recall  f1-score   support\n",
      "\n",
      "         0.0       0.84      0.29      0.43       234\n",
      "         1.0       0.69      0.97      0.81       390\n",
      "\n",
      "    accuracy                           0.71       624\n",
      "   macro avg       0.77      0.63      0.62       624\n",
      "weighted avg       0.75      0.71      0.67       624\n",
      "\n",
      "['TN', 'FP']\n",
      "['FN', 'TP']\n",
      "Confusion Matrix\n",
      "[[ 78 156]\n",
      " [  7 383]]\n",
      "              precision    recall  f1-score   support\n",
      "\n",
      "         0.0       0.92      0.33      0.49       234\n",
      "         1.0       0.71      0.98      0.82       390\n",
      "\n",
      "    accuracy                           0.74       624\n",
      "   macro avg       0.81      0.66      0.66       624\n",
      "weighted avg       0.79      0.74      0.70       624\n",
      "\n",
      "['TN', 'FP']\n",
      "['FN', 'TP']\n",
      "Confusion Matrix\n",
      "[[ 91 143]\n",
      " [ 23 367]]\n",
      "              precision    recall  f1-score   support\n",
      "\n",
      "         0.0       0.80      0.39      0.52       234\n",
      "         1.0       0.72      0.94      0.82       390\n",
      "\n",
      "    accuracy                           0.73       624\n",
      "   macro avg       0.76      0.66      0.67       624\n",
      "weighted avg       0.75      0.73      0.71       624\n",
      "\n"
     ]
    }
   ],
   "source": [
    "classification_report()"
   ]
  },
  {
   "cell_type": "markdown",
   "metadata": {},
   "source": [
    "## Lets Visualise the output of Confusion Matrix & Classification Report"
   ]
  },
  {
   "cell_type": "code",
   "execution_count": 17,
   "metadata": {},
   "outputs": [],
   "source": [
    "y_pred = model.predict_classes(X_test)"
   ]
  },
  {
   "cell_type": "code",
   "execution_count": 18,
   "metadata": {},
   "outputs": [
    {
     "name": "stdout",
     "output_type": "stream",
     "text": [
      "['TN', 'FP']\n",
      "['FN', 'TP']\n",
      "[[ 88 146]\n",
      " [ 21 369]]\n",
      "              precision    recall  f1-score   support\n",
      "\n",
      "         0.0       0.81      0.38      0.51       234\n",
      "         1.0       0.72      0.95      0.82       390\n",
      "\n",
      "    accuracy                           0.73       624\n",
      "   macro avg       0.76      0.66      0.66       624\n",
      "weighted avg       0.75      0.73      0.70       624\n",
      "\n"
     ]
    }
   ],
   "source": [
    "import matplotlib.pyplot as plt\n",
    "import pandas\n",
    "import numpy as np\n",
    "from sklearn.metrics import confusion_matrix\n",
    "\n",
    "matrix = [\"TN\",\"FP\"],[\"FN\",\"TP\"]\n",
    "print(matrix[0])\n",
    "print(matrix[1])\n",
    "\n",
    "conf=confusion_matrix(Y_test, y_pred)\n",
    "print(conf)\n",
    "\n",
    "from sklearn.metrics import classification_report\n",
    "print(classification_report(Y_test,y_pred))\n"
   ]
  },
  {
   "cell_type": "code",
   "execution_count": null,
   "metadata": {},
   "outputs": [],
   "source": []
  }
 ],
 "metadata": {
  "kernelspec": {
   "display_name": "Python 3",
   "language": "python",
   "name": "python3"
  },
  "language_info": {
   "codemirror_mode": {
    "name": "ipython",
    "version": 3
   },
   "file_extension": ".py",
   "mimetype": "text/x-python",
   "name": "python",
   "nbconvert_exporter": "python",
   "pygments_lexer": "ipython3",
   "version": "3.7.3"
  }
 },
 "nbformat": 4,
 "nbformat_minor": 2
}
